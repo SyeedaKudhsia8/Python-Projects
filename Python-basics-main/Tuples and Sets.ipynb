{
 "cells": [
  {
   "cell_type": "markdown",
   "id": "6cae2c24",
   "metadata": {},
   "source": [
    "### Write a Python program to add an item in a tuple"
   ]
  },
  {
   "cell_type": "code",
   "execution_count": 1,
   "id": "36a75560",
   "metadata": {},
   "outputs": [
    {
     "name": "stdout",
     "output_type": "stream",
     "text": [
      "Tuple before adding an item  (2, 3, 4, 5, 5)\n",
      "Tuple after adding an item  (2, 3, 4, 5, 5, 9)\n"
     ]
    }
   ],
   "source": [
    "tupl = (2,3,4,5,5)\n",
    "print(\"Tuple before adding an item \", tupl)\n",
    "\n",
    "tuple1 = tupl + (9,)\n",
    "print(\"Tuple after adding an item \", tuple1)"
   ]
  },
  {
   "cell_type": "markdown",
   "id": "e6a18b42",
   "metadata": {},
   "source": [
    "### Write a python program to reverse a tuple"
   ]
  },
  {
   "cell_type": "code",
   "execution_count": 5,
   "id": "7c8a2de0",
   "metadata": {},
   "outputs": [
    {
     "name": "stdout",
     "output_type": "stream",
     "text": [
      "(5, 4, 3, 2)\n"
     ]
    }
   ],
   "source": [
    "tupl = (2,3,4,5)\n",
    "revtup = reversed(tupl)\n",
    "print(tuple(revtup))"
   ]
  },
  {
   "cell_type": "markdown",
   "id": "e55d5254",
   "metadata": {},
   "source": [
    "### Swap the following two tuples"
   ]
  },
  {
   "cell_type": "code",
   "execution_count": 7,
   "id": "eff70b13",
   "metadata": {},
   "outputs": [
    {
     "name": "stdout",
     "output_type": "stream",
     "text": [
      "Tuple1 before swap (11, 22)\n",
      "Tuple2 before swap (99, 77)\n",
      "Tuple1 after swap (99, 77)\n",
      "Tuple2 after swap (11, 22)\n"
     ]
    }
   ],
   "source": [
    "tuple1 = (11,22)\n",
    "tuple2 = (99, 77)\n",
    "\n",
    "print(\"Tuple1 before swap\", tuple1)\n",
    "print(\"Tuple2 before swap\", tuple2)\n",
    "\n",
    "tuple_temp = tuple1\n",
    "tuple1 = tuple2\n",
    "tuple2 = tuple_temp\n",
    "\n",
    "print(\"Tuple1 after swap\", tuple1)\n",
    "print(\"Tuple2 after swap\", tuple2)"
   ]
  },
  {
   "cell_type": "markdown",
   "id": "b8e7878a",
   "metadata": {},
   "source": [
    "### Modify the item (22) of a list inside a following tuple to 222"
   ]
  },
  {
   "cell_type": "code",
   "execution_count": 8,
   "id": "80a70825",
   "metadata": {},
   "outputs": [
    {
     "name": "stdout",
     "output_type": "stream",
     "text": [
      "Updated list values in the tuple (11, [222, 23], 44, 67)\n"
     ]
    }
   ],
   "source": [
    "tuple1 = (11, [22, 23], 44, 67)\n",
    "\n",
    "tuple1[1][0] = 222\n",
    "print(\"Updated list values in the tuple\", tuple1)"
   ]
  },
  {
   "cell_type": "markdown",
   "id": "db270522",
   "metadata": {},
   "source": [
    "### Write a python program to unpack a tuple in several variables"
   ]
  },
  {
   "cell_type": "code",
   "execution_count": 11,
   "id": "f838b832",
   "metadata": {},
   "outputs": [
    {
     "name": "stdout",
     "output_type": "stream",
     "text": [
      "a: 1\n",
      "b: 2\n",
      "c: 3\n",
      "d: 4\n",
      "e: 5\n",
      "f: 0 \n"
     ]
    }
   ],
   "source": [
    "tuple1 = (1,2,3,4,5,0)\n",
    "a,b,c,d,e,f = tuple1\n",
    "print('a: {}\\nb: {}\\nc: {}\\nd: {}\\ne: {}\\nf: {} '.format(a,b,c,d,e,f))"
   ]
  },
  {
   "cell_type": "markdown",
   "id": "7b3a851d",
   "metadata": {},
   "source": [
    "### Write a python program to add numbers in an empty set"
   ]
  },
  {
   "cell_type": "code",
   "execution_count": 12,
   "id": "2a6d07cc",
   "metadata": {},
   "outputs": [
    {
     "name": "stdout",
     "output_type": "stream",
     "text": [
      "{2, 3, 4, 5}\n"
     ]
    }
   ],
   "source": [
    "set1 = set()\n",
    "set1.add(2)\n",
    "set1.add(3)\n",
    "set1.update([4,5])\n",
    "print(set1)"
   ]
  },
  {
   "cell_type": "markdown",
   "id": "8fdc4bbe",
   "metadata": {},
   "source": [
    "### Write a python program to create an instersection of sets"
   ]
  },
  {
   "cell_type": "code",
   "execution_count": 14,
   "id": "a06bbace",
   "metadata": {},
   "outputs": [
    {
     "name": "stdout",
     "output_type": "stream",
     "text": [
      "set1  {2, 3, 4, 5, 6, 7}\n",
      "set2 {3, 4, 5, 7, 8, 9}\n",
      "Intersection of set 1 and set 2 {3, 4, 5, 7}\n"
     ]
    }
   ],
   "source": [
    "set1 = set([2,3,4,5,6,7])\n",
    "set2 = set([3,7,8,9,5,4])\n",
    "inter = set1.intersection(set2)\n",
    "print(\"set1 \", set1)\n",
    "print(\"set2\", set2)\n",
    "print(\"Intersection of set 1 and set 2\", inter)"
   ]
  },
  {
   "cell_type": "markdown",
   "id": "8f6894d8",
   "metadata": {},
   "source": [
    "### Write a python program to create a symmetric difference (or disjunctive union) in sets"
   ]
  },
  {
   "cell_type": "code",
   "execution_count": 15,
   "id": "8bce7018",
   "metadata": {},
   "outputs": [
    {
     "name": "stdout",
     "output_type": "stream",
     "text": [
      "Set1 {'Red', 'White', 'Blue'}\n",
      "Set2 {'Blue', 'Green', 'Yellow'}\n",
      "Symmetric difference is  {'Yellow', 'White', 'Green', 'Red'}\n"
     ]
    }
   ],
   "source": [
    "set1 = set([\"Red\", \"Blue\", \"White\"])\n",
    "set2 = set([\"Blue\", \"Green\", \"Yellow\"])\n",
    "print(\"Set1\", set1)\n",
    "print(\"Set2\", set2)\n",
    "sym = set1.symmetric_difference(set2)\n",
    "print(\"Symmetric difference is \", sym)"
   ]
  },
  {
   "cell_type": "markdown",
   "id": "ec8556ad",
   "metadata": {},
   "source": [
    "### Return a set of identical items from a given two python set"
   ]
  },
  {
   "cell_type": "code",
   "execution_count": 16,
   "id": "1106db4f",
   "metadata": {},
   "outputs": [
    {
     "name": "stdout",
     "output_type": "stream",
     "text": [
      "Set1 {40, 10, 50, 20, 30}\n",
      "Set2 {70, 40, 50, 60, 30}\n",
      "Identical items of bothe the sets are :  {40, 50, 30}\n"
     ]
    }
   ],
   "source": [
    "set1 = set([10, 20, 30, 40, 50])\n",
    "set2 = set([30, 40, 50, 60, 70])\n",
    "print('Set1', set1)\n",
    "print('Set2', set2)\n",
    "inter = set1.intersection(set2)\n",
    "print(\"Identical items of bothe the sets are : \", inter)"
   ]
  },
  {
   "cell_type": "markdown",
   "id": "f8def3ae",
   "metadata": {},
   "source": [
    "### Remove 10, 20, 30 elements from a following set at once"
   ]
  },
  {
   "cell_type": "code",
   "execution_count": 18,
   "id": "0b0b9e8c",
   "metadata": {},
   "outputs": [
    {
     "name": "stdout",
     "output_type": "stream",
     "text": [
      "set1 :  {40, 10, 50, 20, 30}\n",
      "set2- items to be deleted {10, 20, 30}\n",
      "Removed elements 10, 20, 30 from set1  {40, 50}\n"
     ]
    }
   ],
   "source": [
    "set1 = set([10, 20, 30, 40, 50])\n",
    "set2 = set([10, 20, 30])\n",
    "print('set1 : ',set1)\n",
    "print('set2- items to be deleted', set2)\n",
    "dif_sets = set1-set2\n",
    "print('Removed elements 10, 20, 30 from set1 ', dif_sets)"
   ]
  },
  {
   "cell_type": "code",
   "execution_count": 19,
   "id": "af576119",
   "metadata": {},
   "outputs": [
    {
     "name": "stdout",
     "output_type": "stream",
     "text": [
      "Difference updated {40, 50}\n"
     ]
    }
   ],
   "source": [
    "set1.difference_update(set2)\n",
    "print('Difference updated', set1)"
   ]
  },
  {
   "cell_type": "markdown",
   "id": "455660f0",
   "metadata": {},
   "source": [
    "### Access value 20 from the following tuple"
   ]
  },
  {
   "cell_type": "code",
   "execution_count": 20,
   "id": "c1455cd4",
   "metadata": {},
   "outputs": [
    {
     "name": "stdout",
     "output_type": "stream",
     "text": [
      "Accessing the value 20 from tuple1  20\n"
     ]
    }
   ],
   "source": [
    "tuple1 = (\"Syeeda\", [10,20,30], (5, 10, 15, 20))\n",
    "print(\"Accessing the value 20 from tuple1 \",tuple1[1][1])"
   ]
  },
  {
   "cell_type": "markdown",
   "id": "9b2b516f",
   "metadata": {},
   "source": [
    "### Count the number of occurrences of item 50 from a tuple"
   ]
  },
  {
   "cell_type": "code",
   "execution_count": 21,
   "id": "bb7e42b9",
   "metadata": {},
   "outputs": [
    {
     "name": "stdout",
     "output_type": "stream",
     "text": [
      "tuple :  (50, 50, 60, 50, 70, 50, 80, 50, 90)\n",
      "Occurrences of item 50 in tuple  5\n"
     ]
    }
   ],
   "source": [
    "numbers= (50,50,60,50,70,50,80,50,90)\n",
    "print(\"tuple : \", numbers)\n",
    "print(\"Occurrences of item 50 in tuple \", numbers.count(50))"
   ]
  },
  {
   "cell_type": "code",
   "execution_count": null,
   "id": "d2ea4197",
   "metadata": {},
   "outputs": [],
   "source": []
  }
 ],
 "metadata": {
  "kernelspec": {
   "display_name": "Python 3 (ipykernel)",
   "language": "python",
   "name": "python3"
  },
  "language_info": {
   "codemirror_mode": {
    "name": "ipython",
    "version": 3
   },
   "file_extension": ".py",
   "mimetype": "text/x-python",
   "name": "python",
   "nbconvert_exporter": "python",
   "pygments_lexer": "ipython3",
   "version": "3.9.7"
  }
 },
 "nbformat": 4,
 "nbformat_minor": 5
}
