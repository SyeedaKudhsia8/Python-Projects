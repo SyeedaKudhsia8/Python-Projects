{
 "cells": [
  {
   "cell_type": "markdown",
   "id": "f9f2460f",
   "metadata": {},
   "source": [
    "Write a Python function that accepts a string and calculates the number of uppercase letters and lowercase letters."
   ]
  },
  {
   "cell_type": "code",
   "execution_count": 3,
   "id": "ca41ca6f",
   "metadata": {},
   "outputs": [
    {
     "name": "stdout",
     "output_type": "stream",
     "text": [
      "Enter a sentence you'd like - hi how ar u\n",
      "The number of lower case letters are  1\n",
      "The number of lower case letters are  2\n",
      "Invalid input\n",
      "The number of lower case letters are  3\n",
      "The number of lower case letters are  4\n",
      "The number of lower case letters are  5\n",
      "Invalid input\n",
      "The number of lower case letters are  6\n",
      "The number of lower case letters are  7\n",
      "Invalid input\n",
      "The number of lower case letters are  8\n"
     ]
    }
   ],
   "source": [
    "string = input(\"Enter a sentence you'd like - \")\n",
    "upper_case = 0\n",
    "lower_case= 0\n",
    "\n",
    "for i in string:\n",
    "    if i.isupper():\n",
    "        upper_case += 1\n",
    "        print(\"The number of upper case letters are \", upper_case)\n",
    "        break\n",
    "    elif i.islower():\n",
    "        lower_case += 1\n",
    "        print(\"The number of lower case letters are \", lower_case)\n",
    "    else:\n",
    "        print(\"Invalid input\")\n",
    "        "
   ]
  },
  {
   "cell_type": "code",
   "execution_count": 6,
   "id": "6b9c0685",
   "metadata": {},
   "outputs": [
    {
     "name": "stdout",
     "output_type": "stream",
     "text": [
      "Enter the string with mixed caseshi how ru\n",
      "number of upper case letters are 0\n",
      "number of lower carse letters are 9\n"
     ]
    }
   ],
   "source": [
    "def CountCase(text):\n",
    "    upperCase = []\n",
    "    lowerCase = []\n",
    "    for s in text:\n",
    "        if s.isupper():\n",
    "            upperCase.append(s)\n",
    "        else:\n",
    "            lowerCase.append(s)\n",
    "    return len(upperCase), len(lowerCase)\n",
    "\n",
    "stext = input(\"Enter the string with mixed cases\")\n",
    "u, l = CountCase(stext)\n",
    "print(\"number of upper case letters are\", u)\n",
    "print(\"number of lower carse letters are\", l)"
   ]
  },
  {
   "cell_type": "markdown",
   "id": "8e1462f9",
   "metadata": {},
   "source": [
    "Write a Python function to create and print a list where the values are squares of numbers between 1 and 30 (both included)."
   ]
  },
  {
   "cell_type": "code",
   "execution_count": 14,
   "id": "f437839b",
   "metadata": {},
   "outputs": [
    {
     "name": "stdout",
     "output_type": "stream",
     "text": [
      "The square of the number 1 is 1 \n",
      "The square of the number 2 is 4 \n",
      "The square of the number 3 is 9 \n",
      "The square of the number 4 is 16 \n",
      "The square of the number 5 is 25 \n",
      "The square of the number 6 is 36 \n",
      "The square of the number 7 is 49 \n",
      "The square of the number 8 is 64 \n",
      "The square of the number 9 is 81 \n",
      "The square of the number 10 is 100 \n",
      "The square of the number 11 is 121 \n",
      "The square of the number 12 is 144 \n",
      "The square of the number 13 is 169 \n",
      "The square of the number 14 is 196 \n",
      "The square of the number 15 is 225 \n",
      "The square of the number 16 is 256 \n",
      "The square of the number 17 is 289 \n",
      "The square of the number 18 is 324 \n",
      "The square of the number 19 is 361 \n",
      "The square of the number 20 is 400 \n",
      "The square of the number 21 is 441 \n",
      "The square of the number 22 is 484 \n",
      "The square of the number 23 is 529 \n",
      "The square of the number 24 is 576 \n",
      "The square of the number 25 is 625 \n",
      "The square of the number 26 is 676 \n",
      "The square of the number 27 is 729 \n",
      "The square of the number 28 is 784 \n",
      "The square of the number 29 is 841 \n",
      "The square of the number 30 is 900 \n"
     ]
    }
   ],
   "source": [
    "def printsquare():\n",
    "    square = []\n",
    "    for i in range(1, 31):\n",
    "        square.append(i**2)\n",
    "        print(\"The square of the number {} is {} \".format(i, i**2))\n",
    "printsquare()"
   ]
  },
  {
   "cell_type": "markdown",
   "id": "1f4bf141",
   "metadata": {},
   "source": [
    "Create a function that counts the number of elements within a list that are greater than 30."
   ]
  },
  {
   "cell_type": "code",
   "execution_count": 25,
   "id": "285cd62e",
   "metadata": {},
   "outputs": [
    {
     "name": "stdout",
     "output_type": "stream",
     "text": [
      "The list [1, 5, 9, 13, 17, 21, 25, 29, 33, 37, 41, 45, 49, 53, 57, 61, 65, 69, 73, 77, 81, 85, 89, 93, 97]\n",
      "The number of elements in a list 17 greater than that of 30 are [33, 37, 41, 45, 49, 53, 57, 61, 65, 69, 73, 77, 81, 85, 89, 93, 97] \n"
     ]
    }
   ],
   "source": [
    "def list_of_numbers(number, listOfNumbers):\n",
    "    x = [i for i in listOfNumbers if i > number]\n",
    "    return len(x), x\n",
    "\n",
    "number = 30\n",
    "listOfNumbers = list(range(1,100,4))\n",
    "\n",
    "#l, lis = list_of_numbers(number, listOfNumbers)\n",
    "print(\"The list\", listOfNumbers)\n",
    "print(\"The number of elements in a list {} greater than that of 30 are {} \".format(l, lis))\n",
    "                     \n",
    "                     \n",
    "                     \n",
    "                     \n",
    "                     "
   ]
  },
  {
   "cell_type": "markdown",
   "id": "687dc946",
   "metadata": {},
   "source": [
    " Write a Python function that takes a list and returns a new list with unique elements of the first list."
   ]
  },
  {
   "cell_type": "code",
   "execution_count": 31,
   "id": "a21896fc",
   "metadata": {},
   "outputs": [
    {
     "name": "stdout",
     "output_type": "stream",
     "text": [
      "The list with unique elements are -  [40, 1, 2, 3, 4, 22]\n"
     ]
    }
   ],
   "source": [
    "def unique_list(list1):\n",
    "    \n",
    "    uniquelist = []\n",
    "    \n",
    "    for i in list1:\n",
    "        if i not in uniquelist:\n",
    "            uniquelist.append(i)\n",
    "    return uniquelist\n",
    "\n",
    "list1 = [40,1,2,3,3,2,1,2,1,3,3,4,1,1,2,22,2,3,4,4,4,3]\n",
    "\n",
    "print(\"The list with unique elements are - \", unique_list(list1))\n"
   ]
  },
  {
   "cell_type": "markdown",
   "id": "da7b1435",
   "metadata": {},
   "source": [
    "Create a function showEmployee() in such a way that it should accept employee name, and it’s salary and display both, and if the salary is missing in function call it should show it as 9000"
   ]
  },
  {
   "cell_type": "code",
   "execution_count": 34,
   "id": "e6220e01",
   "metadata": {},
   "outputs": [
    {
     "name": "stdout",
     "output_type": "stream",
     "text": [
      "Employee name is Syeeda\n",
      "Employee salary is 25000000\n",
      "\n",
      "Employee name is Sikskn\n",
      "Employee salary is 9000\n",
      "\n"
     ]
    }
   ],
   "source": [
    "def showEmployee(EmpName, EmpSalary = 9000):\n",
    "    print(\"Employee name is {}\\nEmployee salary is {}\\n\".format(EmpName, EmpSalary))\n",
    "    \n",
    "showEmployee(\"Syeeda\", \"25000000\")\n",
    "showEmployee(\"Sikskn\")\n",
    "    "
   ]
  },
  {
   "cell_type": "markdown",
   "id": "f2b299ed",
   "metadata": {},
   "source": [
    "Write a Python program to count the even, odd numbers in a given array of integers using Lambda."
   ]
  },
  {
   "cell_type": "code",
   "execution_count": 38,
   "id": "bfe4b688",
   "metadata": {},
   "outputs": [
    {
     "ename": "SyntaxError",
     "evalue": "invalid syntax (2584537777.py, line 2)",
     "output_type": "error",
     "traceback": [
      "\u001b[0;36m  File \u001b[0;32m\"/var/folders/l9/bq8y_50n0hx5qtwqd93nnx4w0000gn/T/ipykernel_89336/2584537777.py\"\u001b[0;36m, line \u001b[0;32m2\u001b[0m\n\u001b[0;31m    x = [i for i in a if i%2 == 0,even if i%2 != 0 odd]\u001b[0m\n\u001b[0m                                 ^\u001b[0m\n\u001b[0;31mSyntaxError\u001b[0m\u001b[0;31m:\u001b[0m invalid syntax\n"
     ]
    }
   ],
   "source": [
    "def numbers(a):\n",
    "    x = [i for i in a if i%2 == 0,even if i%2 != 0 odd]\n",
    "    return x\n",
    "a = [4,5,6,7,7,5,4,3,3,3,5,6,6,7,7,7,7]\n",
    "    "
   ]
  },
  {
   "cell_type": "code",
   "execution_count": 40,
   "id": "0557610f",
   "metadata": {},
   "outputs": [
    {
     "name": "stdout",
     "output_type": "stream",
     "text": [
      "The original list [20, 23, 26, 29, 32, 35, 38, 41, 44, 47, 50, 53, 56, 59, 62, 65, 68]\n",
      "Even number list [20, 26, 32, 38, 44, 50, 56, 62, 68]\n",
      "Length of even number list is: 9\n",
      "Odd number list [23, 29, 35, 41, 47, 53, 59, 65]\n",
      "length of odd number list is: 8\n"
     ]
    }
   ],
   "source": [
    "number_list = list(range(20,70,3))\n",
    "find_even = lambda a : a%2 == 0\n",
    "find_odd = lambda a : a%2 != 0\n",
    "even_list = list(filter(find_even, number_list))\n",
    "odd_list = list(filter(find_odd, number_list))\n",
    "\n",
    "print(\"The original list\", number_list)\n",
    "print(\"Even number list\", even_list)\n",
    "print(\"Length of even number list is:\",len(even_list))\n",
    "print(\"Odd number list\", odd_list)\n",
    "print(\"length of odd number list is:\",len(odd_list))"
   ]
  },
  {
   "cell_type": "markdown",
   "id": "83790ee9",
   "metadata": {},
   "source": [
    "Write a python program to add two given lists using map and lambda function"
   ]
  },
  {
   "cell_type": "code",
   "execution_count": 44,
   "id": "8c7cf69d",
   "metadata": {},
   "outputs": [
    {
     "name": "stdout",
     "output_type": "stream",
     "text": [
      "The list 1 -->  [10, 15, 20, 25, 30, 35, 40, 45]\n",
      "The list 2 -->  [10, 12, 14, 16, 18, 20, 22, 24, 26, 28, 30, 32, 34, 36, 38, 40, 42, 44, 46, 48]\n",
      "The resultant list -->  [20, 27, 34, 41, 48, 55, 62, 69]\n"
     ]
    }
   ],
   "source": [
    "#list1 = [4,3,2,7,6,5,4]\n",
    "#list2 = [33,76,4,5,9,26,92]\n",
    "list1 = list(range(10,50,5))\n",
    "list2 = list(range(10,50,2))\n",
    "\n",
    "addlist = lambda a,b : a+b\n",
    "\n",
    "result = list(map(addlist, list1, list2))\n",
    "print(\"The list 1 --> \", list1)\n",
    "print(\"The list 2 --> \",list2)\n",
    "print(\"The resultant list --> \",result)"
   ]
  },
  {
   "cell_type": "markdown",
   "id": "0e72318d",
   "metadata": {},
   "source": [
    "Write a Python program to rearrange positive and negative numbers in a given array using Lambda and filter"
   ]
  },
  {
   "cell_type": "code",
   "execution_count": 48,
   "id": "b387902f",
   "metadata": {},
   "outputs": [
    {
     "name": "stdout",
     "output_type": "stream",
     "text": [
      "[-9, -6, -5, -4, -1, 1, 2, 3, 5]\n"
     ]
    }
   ],
   "source": [
    "number_list = [3,-6,5,-9,0,-1,-4,2,0,-5,1]\n",
    "pos_num = lambda x : x>0\n",
    "neg_num = lambda x : x<0\n",
    "result = list(filter(pos_num, number_list)) + list(filter(neg_num, number_list))\n",
    "\n",
    "print(sorted(result))\n",
    "\n"
   ]
  },
  {
   "cell_type": "markdown",
   "id": "9c34580b",
   "metadata": {},
   "source": [
    "Write a Python program to filter a list of integers using Lambda."
   ]
  },
  {
   "cell_type": "code",
   "execution_count": 47,
   "id": "16bd300f",
   "metadata": {},
   "outputs": [
    {
     "name": "stdout",
     "output_type": "stream",
     "text": [
      "The list [1, 6, 11, 16, 21, 26, 31, 36, 41, 46, 51, 56, 61, 66, 71, 76, 81, 86, 91, 96]\n",
      "The even list [6, 16, 26, 36, 46, 56, 66, 76, 86, 96]\n",
      "The odd list [1, 11, 21, 31, 41, 51, 61, 71, 81, 91]\n"
     ]
    }
   ],
   "source": [
    "number_list = list(range(1,100,5))\n",
    "find_even = lambda a : a%2 == 0\n",
    "find_odd = lambda a : a%2 != 0\n",
    "even_list = list(filter(find_even, number_list))\n",
    "odd_list = list(filter(find_odd, number_list))\n",
    "\n",
    "print(\"The list\", number_list)\n",
    "print(\"The even list\", even_list)\n",
    "print(\"The odd list\", odd_list)"
   ]
  },
  {
   "cell_type": "markdown",
   "id": "40490663",
   "metadata": {},
   "source": [
    "Write a Python program to find the intersection of two given arrays using Lambda and filter."
   ]
  },
  {
   "cell_type": "code",
   "execution_count": 50,
   "id": "f075a5a3",
   "metadata": {},
   "outputs": [
    {
     "name": "stdout",
     "output_type": "stream",
     "text": [
      "The list 1 [10, 12, 14, 16, 18, 20, 22, 24, 26, 28]\n",
      "The list 2 [10, 13, 16, 19, 22, 25, 28, 31, 34, 37, 40, 43, 46, 49]\n",
      "The intersection elements [10, 16, 22, 28]\n"
     ]
    }
   ],
   "source": [
    "list1 = list(range(10,30,2))\n",
    "list2 = list(range(10,50,3))\n",
    "\n",
    "intersection = lambda x: x in list1\n",
    "print(\"The list 1\", list1)\n",
    "print(\"The list 2\", list2)\n",
    "result = list(filter(lambda x : x in list1, list2))\n",
    "print(\"The intersection elements\", result)"
   ]
  },
  {
   "cell_type": "code",
   "execution_count": null,
   "id": "5356f70b",
   "metadata": {},
   "outputs": [],
   "source": []
  }
 ],
 "metadata": {
  "kernelspec": {
   "display_name": "Python 3 (ipykernel)",
   "language": "python",
   "name": "python3"
  },
  "language_info": {
   "codemirror_mode": {
    "name": "ipython",
    "version": 3
   },
   "file_extension": ".py",
   "mimetype": "text/x-python",
   "name": "python",
   "nbconvert_exporter": "python",
   "pygments_lexer": "ipython3",
   "version": "3.9.7"
  }
 },
 "nbformat": 4,
 "nbformat_minor": 5
}
