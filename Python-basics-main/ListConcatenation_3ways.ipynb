{
 "cells": [
  {
   "cell_type": "markdown",
   "id": "cc3f23f2",
   "metadata": {},
   "source": [
    "# Concatenating n number lists in 3 different ways"
   ]
  },
  {
   "cell_type": "markdown",
   "id": "ae9e0a97",
   "metadata": {},
   "source": [
    " - By using append\n",
    " - By using expand\n",
    " - By using simple concatenation"
   ]
  },
  {
   "cell_type": "code",
   "execution_count": 6,
   "id": "a4aa40d0",
   "metadata": {},
   "outputs": [],
   "source": [
    "def listcount(*args):\n",
    "    lists = []\n",
    "    listsExp = []\n",
    "    listPlus = []\n",
    "    for i in args:\n",
    "        if type(i) == list:\n",
    "            lists.append(i)\n",
    "            listsExp.extend(i)\n",
    "            listPlus += i\n",
    "    return lists, listsExp, listPlus\n",
    "\n",
    "lists, listsExp, listPlus = listcount(\"Syeeda\", [24, 8, 6, 1997], [31, 17,5, 1991])"
   ]
  },
  {
   "cell_type": "code",
   "execution_count": 7,
   "id": "813ec7d3",
   "metadata": {},
   "outputs": [
    {
     "data": {
      "text/plain": [
       "[[24, 8, 6, 1997], [31, 17, 5, 1991]]"
      ]
     },
     "execution_count": 7,
     "metadata": {},
     "output_type": "execute_result"
    }
   ],
   "source": [
    "lists"
   ]
  },
  {
   "cell_type": "code",
   "execution_count": 8,
   "id": "5d3be24f",
   "metadata": {},
   "outputs": [
    {
     "data": {
      "text/plain": [
       "[24, 8, 6, 1997, 31, 17, 5, 1991]"
      ]
     },
     "execution_count": 8,
     "metadata": {},
     "output_type": "execute_result"
    }
   ],
   "source": [
    "listsExp"
   ]
  },
  {
   "cell_type": "code",
   "execution_count": 9,
   "id": "752a94b0",
   "metadata": {},
   "outputs": [
    {
     "data": {
      "text/plain": [
       "[24, 8, 6, 1997, 31, 17, 5, 1991]"
      ]
     },
     "execution_count": 9,
     "metadata": {},
     "output_type": "execute_result"
    }
   ],
   "source": [
    "listPlus"
   ]
  },
  {
   "cell_type": "code",
   "execution_count": null,
   "id": "3effbde5",
   "metadata": {},
   "outputs": [],
   "source": []
  }
 ],
 "metadata": {
  "kernelspec": {
   "display_name": "Python 3 (ipykernel)",
   "language": "python",
   "name": "python3"
  },
  "language_info": {
   "codemirror_mode": {
    "name": "ipython",
    "version": 3
   },
   "file_extension": ".py",
   "mimetype": "text/x-python",
   "name": "python",
   "nbconvert_exporter": "python",
   "pygments_lexer": "ipython3",
   "version": "3.9.7"
  }
 },
 "nbformat": 4,
 "nbformat_minor": 5
}
