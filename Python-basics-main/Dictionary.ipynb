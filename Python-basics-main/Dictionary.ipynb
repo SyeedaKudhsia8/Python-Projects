{
 "cells": [
  {
   "cell_type": "markdown",
   "id": "e8124f57",
   "metadata": {},
   "source": [
    "### car = {\"brand\" : \"Ford\", \"model\" : \"Mustang\", \"year\" : 1964}"
   ]
  },
  {
   "cell_type": "markdown",
   "id": "be1c1eb9",
   "metadata": {},
   "source": [
    "1. Print the value of the \"model\" key of the car dictionary\n",
    "2. Change the \"year\" value from 1964 to 2020\n",
    "3. Add the key/vlaue pair \"colour\" : \"red\" to the car dictionary"
   ]
  },
  {
   "cell_type": "code",
   "execution_count": 33,
   "id": "16539fa7",
   "metadata": {},
   "outputs": [
    {
     "name": "stdout",
     "output_type": "stream",
     "text": [
      "The given dictionary {'brand': 'Ford', 'model': 'Mustang', 'year': 1964}\n",
      "Vlaue of the model :  Mustang\n",
      "The changed dictionary is available to read {'brand': 'Ford', 'model': 'Mustang', 'year': 2020}\n",
      "The changed dictionary is available to read {'brand': 'Ford', 'model': 'Mustang', 'year': 2020, 'color': 'red'}\n"
     ]
    }
   ],
   "source": [
    "car = {\"brand\" : \"Ford\", \"model\" : \"Mustang\", \"year\" : 1964}\n",
    "print(\"The given dictionary\", car)\n",
    "\n",
    "print(\"Vlaue of the model : \", car.get('model'))\n",
    "\n",
    "car.update({\"year\" : 2020})\n",
    "print(\"The changed dictionary is available to read\", car)\n",
    "\n",
    "car.update({\"color\" : \"red\"})\n",
    "print(\"The changed dictionary is available to read\",car)"
   ]
  },
  {
   "cell_type": "markdown",
   "id": "0c475da1",
   "metadata": {},
   "source": [
    "inventor{'gold' : 500, 'pouch' : ['flint', 'twine', 'gemstone'], 'backpack' : ['xylophone', 'dagger', 'bedroll','bread', 'loaf']}\n",
    "\n",
    "4. Add a key to inventory called 'pocket' and set the value of pocket to be a list consisting of the strings 'seashell', 'strangeberry' and 'lint'."
   ]
  },
  {
   "cell_type": "code",
   "execution_count": 34,
   "id": "d0cb9be9",
   "metadata": {},
   "outputs": [
    {
     "name": "stdout",
     "output_type": "stream",
     "text": [
      "{'gold': 500, 'pouch': ['flint', 'twine', 'gemstone'], 'backpack': ['xylophone', 'dagger', 'bedroll', 'bread', 'loaf']}\n",
      "New items included into the inventory {'gold': 500, 'pouch': ['flint', 'twine', 'gemstone'], 'backpack': ['xylophone', 'dagger', 'bedroll', 'bread', 'loaf'], 'pocket': ['seashell', 'strangeberry', 'lint']}\n"
     ]
    }
   ],
   "source": [
    "inventory = {'gold' : 500, 'pouch' : ['flint', 'twine', 'gemstone'], 'backpack' : ['xylophone', 'dagger', 'bedroll','bread', 'loaf']}\n",
    "print(inventory)\n",
    "\n",
    "inventory.update({'pocket' : ['seashell', 'strangeberry', 'lint']})\n",
    "print(\"New items included into the inventory\" ,inventory)"
   ]
  },
  {
   "cell_type": "markdown",
   "id": "2f528a1d",
   "metadata": {},
   "source": [
    "Sort the items in the list stored under the 'backpack' key\n"
   ]
  },
  {
   "cell_type": "code",
   "execution_count": 35,
   "id": "18689dda",
   "metadata": {},
   "outputs": [
    {
     "name": "stdout",
     "output_type": "stream",
     "text": [
      "sorted inventory {'gold': 500, 'pouch': ['flint', 'twine', 'gemstone'], 'backpack': ['bedroll', 'bread', 'dagger', 'loaf', 'xylophone'], 'pocket': ['seashell', 'strangeberry', 'lint']}\n"
     ]
    }
   ],
   "source": [
    "inventory.get(\"backpack\").sort()\n",
    "\n",
    "print(\"sorted inventory\", inventory)\n"
   ]
  },
  {
   "cell_type": "markdown",
   "id": "d2042e1b",
   "metadata": {},
   "source": [
    "Remove \"dagger\" from the list of items stored under the 'backpack' key"
   ]
  },
  {
   "cell_type": "code",
   "execution_count": 36,
   "id": "b415baa5",
   "metadata": {},
   "outputs": [
    {
     "name": "stdout",
     "output_type": "stream",
     "text": [
      "The new inventory {'gold': 500, 'pouch': ['flint', 'twine', 'gemstone'], 'backpack': ['bedroll', 'bread', 'loaf', 'xylophone'], 'pocket': ['seashell', 'strangeberry', 'lint']}\n"
     ]
    }
   ],
   "source": [
    "inventory.get('backpack').remove('dagger')\n",
    "print(\"The new inventory\", inventory)"
   ]
  },
  {
   "cell_type": "markdown",
   "id": "fcc6bba0",
   "metadata": {},
   "source": [
    "Add 50 to the number stored under the 'gold' key"
   ]
  },
  {
   "cell_type": "code",
   "execution_count": 42,
   "id": "1ffaeb46",
   "metadata": {},
   "outputs": [
    {
     "name": "stdout",
     "output_type": "stream",
     "text": [
      "inventory update to gold=550 {'gold': 600, 'pouch': ['flint', 'twine', 'gemstone'], 'backpack': ['bedroll', 'bread', 'loaf', 'xylophone'], 'pocket': ['seashell', 'strangeberry', 'lint']}\n"
     ]
    }
   ],
   "source": [
    "inventory.update({'gold':(inventory.get('gold') + 50)})\n",
    "print(\"inventory update to gold=550\", inventory)"
   ]
  },
  {
   "cell_type": "markdown",
   "id": "bb6c5d3b",
   "metadata": {},
   "source": [
    "Write a pyhton script to concatenate three dictionaries to create a new one. Make dictionaries yourself."
   ]
  },
  {
   "cell_type": "code",
   "execution_count": 43,
   "id": "060b8d01",
   "metadata": {},
   "outputs": [
    {
     "name": "stdout",
     "output_type": "stream",
     "text": [
      "Concatenated dictionary {'car': 'Hyundai', 'Make': 2008, 'FName': 'Syeeda', 'MName': 'Kudhsia', 'LName': 'FName', 'Profession': 'Data Scientist', 'Company': 'Apple'}\n"
     ]
    }
   ],
   "source": [
    "dict1 = {\"car\" : \"Hyundai\", \"Make\" : 2008}\n",
    "dict2 = {\"FName\" : \"Syeeda\", \"MName\" : \"Kudhsia\", \"LName\" : \"FName\"}\n",
    "dict3  = {\"Profession\" : \"Data Scientist\", \"Company\" : \"Apple\"}\n",
    "dictionary = {}\n",
    "\n",
    "for i in (dict1, dict2, dict3):\n",
    "    dictionary.update(i)\n",
    "    \n",
    "print('Concatenated dictionary', dictionary)"
   ]
  },
  {
   "cell_type": "markdown",
   "id": "a81dd0b5",
   "metadata": {},
   "source": [
    "Write a python program to sum all the items in a dictionary"
   ]
  },
  {
   "cell_type": "code",
   "execution_count": 60,
   "id": "22afa6ae",
   "metadata": {},
   "outputs": [
    {
     "name": "stdout",
     "output_type": "stream",
     "text": [
      "Total marks =  465\n"
     ]
    }
   ],
   "source": [
    "dict_marks = {'Data-Processing' : 90, 'Database & Structures' : 80, 'Artificial Intelligence' : 100, \"Computer Vision\" : 95, \"Reinforcement Learning\" : 100}\n",
    "sum = 0\n",
    "for i in dict_marks.keys():\n",
    "    sum += dict_marks.get(i)\n",
    "print(\"Total marks = \", sum)\n",
    "    \n"
   ]
  },
  {
   "cell_type": "markdown",
   "id": "efdd6931",
   "metadata": {},
   "source": [
    "Write a python script to check whether a given key already exists in a dictionary"
   ]
  },
  {
   "cell_type": "code",
   "execution_count": 83,
   "id": "ea131db0",
   "metadata": {},
   "outputs": [
    {
     "name": "stdout",
     "output_type": "stream",
     "text": [
      "Enter a key to check : f\n",
      "The dictionary {'foo': 100, 'bar': 200, 'baz': 300}\n",
      "Nope!\n"
     ]
    }
   ],
   "source": [
    "d = {'foo' : 100, 'bar' : 200, 'baz' : 300}\n",
    "key_to_check = input(\"Enter a key to check : \")\n",
    "print(\"The dictionary\",d)\n",
    "\n",
    "\n",
    "check_list = d.keys()\n",
    "if key_to_check in check_list:\n",
    "    print(\"Yes, it's there!\")\n",
    "        \n",
    "else:\n",
    "    print('Nope!')\n",
    "\n"
   ]
  },
  {
   "cell_type": "markdown",
   "id": "dfdbf517",
   "metadata": {},
   "source": [
    "What method call will delete the entry whose value is 200?\n"
   ]
  },
  {
   "cell_type": "code",
   "execution_count": 84,
   "id": "cf79344f",
   "metadata": {},
   "outputs": [
    {
     "name": "stdout",
     "output_type": "stream",
     "text": [
      "After removing that entry {'foo': 100, 'baz': 300}\n"
     ]
    }
   ],
   "source": [
    "for key,value in d.items():\n",
    "    if value == 200:\n",
    "        remove = d.pop(key)\n",
    "        break\n",
    "print(\"After removing that entry\", d)"
   ]
  },
  {
   "cell_type": "markdown",
   "id": "4ac5931f",
   "metadata": {},
   "source": [
    "Write a python program to check multiple keys exists ia a dictionary"
   ]
  },
  {
   "cell_type": "code",
   "execution_count": 85,
   "id": "61d48b86",
   "metadata": {},
   "outputs": [
    {
     "data": {
      "text/plain": [
       "{'brand': 'Ford', 'model': 'Mustang', 'year': 2020, 'color': 'red'}"
      ]
     },
     "execution_count": 85,
     "metadata": {},
     "output_type": "execute_result"
    }
   ],
   "source": [
    "car"
   ]
  },
  {
   "cell_type": "code",
   "execution_count": 89,
   "id": "0edde51d",
   "metadata": {},
   "outputs": [
    {
     "name": "stdout",
     "output_type": "stream",
     "text": [
      "Enter the keys to check : 2020\n",
      "{'2020'}\n",
      "Entered key does not exists\n"
     ]
    }
   ],
   "source": [
    "multiple_keys = set(input(\"Enter the keys to check : \").split())\n",
    "print(multiple_keys)\n",
    "\n",
    "if car.keys() >= multiple_keys:\n",
    "    print(\"Entered key exists\")\n",
    "    \n",
    "else:\n",
    "    print(\"Entered key does not exists\")"
   ]
  },
  {
   "cell_type": "code",
   "execution_count": null,
   "id": "b029b211",
   "metadata": {},
   "outputs": [],
   "source": []
  }
 ],
 "metadata": {
  "kernelspec": {
   "display_name": "Python 3 (ipykernel)",
   "language": "python",
   "name": "python3"
  },
  "language_info": {
   "codemirror_mode": {
    "name": "ipython",
    "version": 3
   },
   "file_extension": ".py",
   "mimetype": "text/x-python",
   "name": "python",
   "nbconvert_exporter": "python",
   "pygments_lexer": "ipython3",
   "version": "3.9.7"
  }
 },
 "nbformat": 4,
 "nbformat_minor": 5
}
