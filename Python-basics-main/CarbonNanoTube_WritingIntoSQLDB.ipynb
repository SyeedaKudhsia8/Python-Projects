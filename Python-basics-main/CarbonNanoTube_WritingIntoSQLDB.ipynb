{
 "cells": [
  {
   "cell_type": "code",
   "execution_count": 1,
   "id": "b1b17052",
   "metadata": {},
   "outputs": [],
   "source": [
    "import csv"
   ]
  },
  {
   "cell_type": "markdown",
   "id": "f7a4b7f1",
   "metadata": {},
   "source": [
    "# Reading the Carbon nanotube raw dataset"
   ]
  },
  {
   "cell_type": "code",
   "execution_count": 20,
   "id": "fd1ad20a",
   "metadata": {},
   "outputs": [
    {
     "name": "stdout",
     "output_type": "stream",
     "text": [
      "[\"Chiral indice n;Chiral indice m;Initial atomic coordinate u;Initial atomic coordinate v;Initial atomic coordinate w;Calculated atomic coordinates u';Calculated atomic coordinates v';Calculated atomic coordinates w'\"]\n"
     ]
    }
   ],
   "source": [
    "# Adjusting the data into columns, total of 8 attributes\n",
    "# splitting the data with delimiter\n",
    "\n",
    "file_in_list = []\n",
    "with open(\"carbon_nanotubes.csv\", 'r') as file:\n",
    "    data = csv.reader(file, delimiter = '\\n')\n",
    "    header = next(data)\n",
    "    print(header)\n",
    "    for i in data:\n",
    "        file_in_list.append(i[0].split(';'))"
   ]
  },
  {
   "cell_type": "markdown",
   "id": "4875b0e8",
   "metadata": {},
   "source": [
    "# Writing the updated data into a csv file"
   ]
  },
  {
   "cell_type": "code",
   "execution_count": 21,
   "id": "b31847a7",
   "metadata": {},
   "outputs": [],
   "source": [
    "with open('CarbonUpdatedFile.csv', 'w', newline = '') as data:\n",
    "    writer = csv.writer(data)\n",
    "    writer.writerows(file_in_list)"
   ]
  },
  {
   "cell_type": "markdown",
   "id": "b7671d35",
   "metadata": {},
   "source": [
    "# Creating a database in MYSQL"
   ]
  },
  {
   "cell_type": "code",
   "execution_count": 22,
   "id": "458ce228",
   "metadata": {},
   "outputs": [
    {
     "name": "stdout",
     "output_type": "stream",
     "text": [
      "Database created!\n"
     ]
    }
   ],
   "source": [
    "import mysql.connector as connection\n",
    "\n",
    "try:\n",
    "    mydb = connection.connect(host = \"Syeedas-MacBook-Pro.local\", user = \"root\", passwd = \"Syeeda@123\", use_pure = True)\n",
    "    #check if the connection is established\n",
    "    query = \"create database CarbonNanoTube\"\n",
    "    cursor = mydb.cursor()\n",
    "    cursor.execute(query)\n",
    "    print('Database created!')\n",
    "    \n",
    "except Exception as e:\n",
    "    mydb.close()\n",
    "    print(str(e))"
   ]
  },
  {
   "cell_type": "markdown",
   "id": "5068a26d",
   "metadata": {},
   "source": [
    "# Creating a table"
   ]
  },
  {
   "cell_type": "code",
   "execution_count": 23,
   "id": "69ad2286",
   "metadata": {},
   "outputs": [
    {
     "name": "stdout",
     "output_type": "stream",
     "text": [
      "create table CarbonNanoTube.NanoTubeDetails (Chiralindicen INT,Chiralindicem INT,Initialatomiccoordinateu varchar(20), Initialatomiccoordinatev varchar(20),Initialatomiccoordinatew varchar(20), Calculatedatomiccoordinatesu varchar(20), Calculatedatomiccoordinatesv varchar(20), Calculatedatomiccoordinatesw varchar(20));\n"
     ]
    }
   ],
   "source": [
    "query = \"create table CarbonNanoTube.NanoTubeDetails (Chiralindicen INT,Chiralindicem INT,Initialatomiccoordinateu varchar(20), Initialatomiccoordinatev varchar(20),Initialatomiccoordinatew varchar(20), Calculatedatomiccoordinatesu varchar(20), Calculatedatomiccoordinatesv varchar(20), Calculatedatomiccoordinatesw varchar(20));\"\n",
    "print(query)"
   ]
  },
  {
   "cell_type": "code",
   "execution_count": 24,
   "id": "754a6d74",
   "metadata": {},
   "outputs": [
    {
     "name": "stdout",
     "output_type": "stream",
     "text": [
      "Table created!\n"
     ]
    }
   ],
   "source": [
    "cursor = mydb.cursor()\n",
    "cursor.execute(query)\n",
    "print(\"Table created!\")"
   ]
  },
  {
   "cell_type": "markdown",
   "id": "a5828355",
   "metadata": {},
   "source": [
    "# Inserting data into table "
   ]
  },
  {
   "cell_type": "code",
   "execution_count": 27,
   "id": "5a70ae2b",
   "metadata": {},
   "outputs": [
    {
     "name": "stdout",
     "output_type": "stream",
     "text": [
      "<_csv.reader object at 0x7f9cf999cc80>\n",
      "vlaues inserted\n"
     ]
    }
   ],
   "source": [
    "with open('CarbonUpdatedFile.csv', 'r') as data:\n",
    "    #next(data)\n",
    "    data_csv = csv.reader(data, delimiter = '\\n')\n",
    "    next(data_csv)\n",
    "    print(data_csv)\n",
    "    for j in data_csv:\n",
    "        query = \"INSERT INTO CarbonNanoTube.NanoTubeDetails values ({})\".format(','.join([value for value in j]))\n",
    "        cursor.execute(query)\n",
    "mydb.commit()\n",
    "print(\"vlaues inserted\")    \n",
    "        "
   ]
  },
  {
   "cell_type": "markdown",
   "id": "3e0586e0",
   "metadata": {},
   "source": [
    "![](Dataset)"
   ]
  },
  {
   "cell_type": "markdown",
   "id": "d29ac3aa",
   "metadata": {},
   "source": [
    "![](Dataset.png)"
   ]
  },
  {
   "cell_type": "markdown",
   "id": "bc87924b",
   "metadata": {},
   "source": [
    "![](Dataset.png)"
   ]
  },
  {
   "cell_type": "code",
   "execution_count": null,
   "id": "540f5c20",
   "metadata": {},
   "outputs": [],
   "source": []
  }
 ],
 "metadata": {
  "kernelspec": {
   "display_name": "Python 3 (ipykernel)",
   "language": "python",
   "name": "python3"
  },
  "language_info": {
   "codemirror_mode": {
    "name": "ipython",
    "version": 3
   },
   "file_extension": ".py",
   "mimetype": "text/x-python",
   "name": "python",
   "nbconvert_exporter": "python",
   "pygments_lexer": "ipython3",
   "version": "3.9.7"
  }
 },
 "nbformat": 4,
 "nbformat_minor": 5
}
