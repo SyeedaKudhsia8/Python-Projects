{
 "cells": [
  {
   "cell_type": "code",
   "execution_count": 26,
   "id": "d25b8028",
   "metadata": {},
   "outputs": [],
   "source": [
    "import pandas as pd"
   ]
  },
  {
   "cell_type": "code",
   "execution_count": 91,
   "id": "61b3e737",
   "metadata": {},
   "outputs": [],
   "source": [
    "data = pd.read_html(\"https://www.theguardian.com/football/tables\")"
   ]
  },
  {
   "cell_type": "code",
   "execution_count": null,
   "id": "9f7cbdb7",
   "metadata": {},
   "outputs": [],
   "source": []
  }
 ],
 "metadata": {
  "kernelspec": {
   "display_name": "Python 3 (ipykernel)",
   "language": "python",
   "name": "python3"
  },
  "language_info": {
   "codemirror_mode": {
    "name": "ipython",
    "version": 3
   },
   "file_extension": ".py",
   "mimetype": "text/x-python",
   "name": "python",
   "nbconvert_exporter": "python",
   "pygments_lexer": "ipython3",
   "version": "3.9.7"
  }
 },
 "nbformat": 4,
 "nbformat_minor": 5
}
