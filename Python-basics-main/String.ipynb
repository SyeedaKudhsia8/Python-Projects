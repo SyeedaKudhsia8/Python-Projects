{
 "cells": [
  {
   "cell_type": "markdown",
   "id": "0560433b",
   "metadata": {},
   "source": [
    "Define different types of variables (integer, boolean,string, float, complex) and print their values and their types"
   ]
  },
  {
   "cell_type": "code",
   "execution_count": 4,
   "id": "5eaf0a34",
   "metadata": {},
   "outputs": [
    {
     "name": "stdout",
     "output_type": "stream",
     "text": [
      "IntVar is of type :  (20, <class 'int'>)\n",
      "BoolVar is of type :  (True, <class 'bool'>)\n",
      "StringVar is of type :  ('Bhanu', <class 'str'>)\n",
      "FloatVar is of type :  (10.5, <class 'float'>)\n",
      "ComplexVar is of type :  ((3+5j), <class 'complex'>)\n"
     ]
    }
   ],
   "source": [
    "# int var\n",
    "IntVar = 20\n",
    "print('IntVar is of type : ',(IntVar,type(IntVar)))\n",
    "# boolean\n",
    "BoolVar = True\n",
    "print('BoolVar is of type : ', (BoolVar,type(BoolVar)))\n",
    "# string\n",
    "StringVar = \"Bhanu\"\n",
    "print('StringVar is of type : ', (StringVar,type(StringVar)))\n",
    "# Float\n",
    "FloatVar = 10.5\n",
    "print('FloatVar is of type : ', (FloatVar,type(FloatVar)))\n",
    "# complex\n",
    "ComplexVar = 3+5j\n",
    "print('ComplexVar is of type : ', (ComplexVar,type(ComplexVar)))"
   ]
  },
  {
   "cell_type": "markdown",
   "id": "a841eb55",
   "metadata": {},
   "source": [
    "In the above question convert float variable into integer type and integer variable into str type."
   ]
  },
  {
   "cell_type": "code",
   "execution_count": 5,
   "id": "9a1b48bb",
   "metadata": {},
   "outputs": [
    {
     "name": "stdout",
     "output_type": "stream",
     "text": [
      "FloatVar is of type :  (10.5, <class 'float'>)\n",
      "After converting :  (10, <class 'int'>)\n",
      "IntVar is of type :  (20, <class 'int'>)\n",
      "After converting :  ('20', <class 'str'>)\n"
     ]
    }
   ],
   "source": [
    "# conver Float into integer\n",
    "FloatVar = 10.5\n",
    "print('FloatVar is of type : ', (FloatVar,type(FloatVar)))\n",
    "FloatVarInt = int(FloatVar)\n",
    "print('After converting : ', (FloatVarInt, type(FloatVarInt)))\n",
    "\n",
    "# convert int into String\n",
    "IntVar = 20\n",
    "print('IntVar is of type : ',(IntVar,type(IntVar)))\n",
    "IntVarString = str(IntVar)\n",
    "print('After converting : ', (IntVarString, type(IntVarString)))"
   ]
  },
  {
   "cell_type": "markdown",
   "id": "77be6a65",
   "metadata": {},
   "source": [
    "What will you get converting “abc” into boolean ?"
   ]
  },
  {
   "cell_type": "code",
   "execution_count": 6,
   "id": "0d64a7e9",
   "metadata": {},
   "outputs": [
    {
     "data": {
      "text/plain": [
       "True"
      ]
     },
     "execution_count": 6,
     "metadata": {},
     "output_type": "execute_result"
    }
   ],
   "source": [
    "strVar = 'abc'\n",
    "strVarBool = bool(strVar)\n",
    "strVarBool"
   ]
  },
  {
   "cell_type": "markdown",
   "id": "649ad393",
   "metadata": {},
   "source": [
    "Print the substring from index 2 to index 4 for any given string. For example (llo) from “Hello World”"
   ]
  },
  {
   "cell_type": "code",
   "execution_count": 7,
   "id": "7963c34c",
   "metadata": {},
   "outputs": [
    {
     "name": "stdout",
     "output_type": "stream",
     "text": [
      "llo\n"
     ]
    }
   ],
   "source": [
    "strVar = 'Hello World'\n",
    "#slicing 2 to 4 index\n",
    "print(strVar[2:5])"
   ]
  },
  {
   "cell_type": "markdown",
   "id": "234aa093",
   "metadata": {},
   "source": [
    "Write a program to check a substring in a given string. For example 'e' is present in the word 'Umbrella'"
   ]
  },
  {
   "cell_type": "code",
   "execution_count": 8,
   "id": "169cc4cf",
   "metadata": {},
   "outputs": [
    {
     "data": {
      "text/plain": [
       "5"
      ]
     },
     "execution_count": 8,
     "metadata": {},
     "output_type": "execute_result"
    }
   ],
   "source": [
    "strVar = 'Umbrella'\n",
    "subStr = 'll'\n",
    "# find returns a positive number if the substring is presentin the string, else returns -ve number\n",
    "strVar.find(subStr)"
   ]
  },
  {
   "cell_type": "markdown",
   "id": "77a6a053",
   "metadata": {},
   "source": [
    "Write a program to get a string from the user and sort the words of the string in alphabetical order."
   ]
  },
  {
   "cell_type": "code",
   "execution_count": 10,
   "id": "e4dcf048",
   "metadata": {},
   "outputs": [
    {
     "name": "stdout",
     "output_type": "stream",
     "text": [
      "Enter the string : abshsjsk\n",
      "abshsjsk\n"
     ]
    }
   ],
   "source": [
    "UsrStrVar = input(\"Enter the string : \")\n",
    "UsrStrVar\n",
    "words = [UsrStrVar.lower() for UsrStrVar in UsrStrVar.split()]\n",
    "words.sort()\n",
    "for word in words:\n",
    "    print(word)"
   ]
  },
  {
   "cell_type": "markdown",
   "id": "b5d19c75",
   "metadata": {},
   "source": [
    "Join two words using special characters like ‘ – ‘ ,’#’"
   ]
  },
  {
   "cell_type": "code",
   "execution_count": 11,
   "id": "7b57f6c7",
   "metadata": {},
   "outputs": [
    {
     "name": "stdout",
     "output_type": "stream",
     "text": [
      "B#h#a#n#u# #i#s# #a# #g#o#o#d# #g#i#r#l\n",
      "B-h-a-n-u- -i-s- -s-m-a-r-t\n"
     ]
    }
   ],
   "source": [
    "# join with '#'\n",
    "word1 = \"Bhanu is a good girl\"\n",
    "NewWord1 = '#'.join(word1)\n",
    "print(NewWord1)\n",
    "#join with '-'\n",
    "word2 = \"Bhanu is smart\"\n",
    "NewWord2 = '-'.join(word2)\n",
    "print(NewWord2)"
   ]
  },
  {
   "cell_type": "markdown",
   "id": "c57cbf8e",
   "metadata": {},
   "source": [
    "Find all occurrences of “INDIA” in a given string ignoring the case.\n",
    "\n",
    "input_str = \"Welcome to INDIA. india is awesome."
   ]
  },
  {
   "cell_type": "code",
   "execution_count": 12,
   "id": "8d53101c",
   "metadata": {},
   "outputs": [
    {
     "name": "stdout",
     "output_type": "stream",
     "text": [
      "The string occurs 2 times\n",
      "The substring occurs at indices :  [11, 18]\n"
     ]
    }
   ],
   "source": [
    "input_str = \"Welcome to INDIA. india is awesome\"\n",
    "sunstr = 'india'\n",
    "x = input_str.lower() \n",
    "print('The string occurs',x.count('india'),'times')\n",
    "indices = [i for i in range(len(x)) if x.startswith(sunstr, i)]\n",
    "\n",
    "print('The substring occurs at indices : ', indices, )\n"
   ]
  },
  {
   "cell_type": "markdown",
   "id": "eeb52dec",
   "metadata": {},
   "source": [
    "Replace first two ‘l’ with ‘n’ in ‘Hello World’"
   ]
  },
  {
   "cell_type": "code",
   "execution_count": 13,
   "id": "27f53569",
   "metadata": {},
   "outputs": [
    {
     "data": {
      "text/plain": [
       "'Henno World'"
      ]
     },
     "execution_count": 13,
     "metadata": {},
     "output_type": "execute_result"
    }
   ],
   "source": [
    "input_str = 'Hello World'\n",
    "#placing first 2 occurances of 'l'\n",
    "newStr = input_str.replace('l','n',2)\n",
    "newStr"
   ]
  },
  {
   "cell_type": "markdown",
   "id": "213cb15c",
   "metadata": {},
   "source": [
    "Write a program that takes your full name as input and displays the abbreviations of the first and middle names except the last name which is displayed as it is. For example, if your name is Robert Brett Roser, then the output should be R.B.Roser."
   ]
  },
  {
   "cell_type": "code",
   "execution_count": 14,
   "id": "4e1627e0",
   "metadata": {},
   "outputs": [
    {
     "name": "stdout",
     "output_type": "stream",
     "text": [
      "input First name middle name and last name with space : Syeeda kudhsia fatima\n",
      "Final Abbrevation S.K.Fatima\n"
     ]
    }
   ],
   "source": [
    "nameStr = list(input('input First name middle name and last name with space : ').split())\n",
    "nameStr\n",
    "\n",
    "finalName = nameStr[0][0].upper()+'.'+nameStr[1][0].upper()+'.'+nameStr[2].title()\n",
    "print('Final Abbrevation',finalName)"
   ]
  },
  {
   "cell_type": "markdown",
   "id": "021ad6d2",
   "metadata": {},
   "source": [
    "Write a program to check if a given string is a Palindrome. A palindrome reads the same from front and back e.g.- aba, ccaacc, mom, etc."
   ]
  },
  {
   "cell_type": "code",
   "execution_count": 18,
   "id": "04903475",
   "metadata": {},
   "outputs": [
    {
     "name": "stdout",
     "output_type": "stream",
     "text": [
      "enter a word  :mom\n",
      "Paliandrome\n"
     ]
    }
   ],
   "source": [
    "# given string\n",
    "strPal = input('enter a word  :')\n",
    "\n",
    "# reversing the given string\n",
    "strRev = strPal[::-1]\n",
    "\n",
    "# chrcking if the strings are same\n",
    "if strPal.upper()==strRev.upper() :\n",
    "    print('Paliandrome')\n",
    "else:\n",
    "    print('Not a Paliandrome')"
   ]
  },
  {
   "cell_type": "code",
   "execution_count": null,
   "id": "c153d867",
   "metadata": {},
   "outputs": [],
   "source": []
  }
 ],
 "metadata": {
  "kernelspec": {
   "display_name": "Python 3 (ipykernel)",
   "language": "python",
   "name": "python3"
  },
  "language_info": {
   "codemirror_mode": {
    "name": "ipython",
    "version": 3
   },
   "file_extension": ".py",
   "mimetype": "text/x-python",
   "name": "python",
   "nbconvert_exporter": "python",
   "pygments_lexer": "ipython3",
   "version": "3.9.7"
  }
 },
 "nbformat": 4,
 "nbformat_minor": 5
}
