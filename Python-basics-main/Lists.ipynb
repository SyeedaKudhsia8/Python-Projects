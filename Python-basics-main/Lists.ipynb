{
 "cells": [
  {
   "cell_type": "markdown",
   "id": "617d4ca5",
   "metadata": {},
   "source": [
    "City = [‘Gurgaon’, ’Mumbai’, ’Bangalore]\n",
    "\n",
    "i) Print the second item from the list.\n",
    "\n",
    "ii) Change the value from \"Gurgaon\" to \"Kerala\"\n",
    "\n",
    "iii) Remove the last element of the list."
   ]
  },
  {
   "cell_type": "code",
   "execution_count": 1,
   "id": "9ef2dd2a",
   "metadata": {},
   "outputs": [
    {
     "name": "stdout",
     "output_type": "stream",
     "text": [
      "Second item from the list :  Mumbai\n",
      "Change the value from \"Gurgaon\" to \"Kerala\" :  ['Kerala', 'Mumbai', 'Bangalore']\n",
      "Remove the last element of the list :  Bangalore\n",
      "The updated list :  ['Kerala', 'Mumbai']\n"
     ]
    }
   ],
   "source": [
    "City = ['Gurgaon', 'Mumbai', 'Bangalore']\n",
    "#i) Print the second item from the list.\n",
    "print('Second item from the list : ',City[1])\n",
    "#ii) Change the value from \"Gurgaon\" to \"Kerala\"\n",
    "City[0] = 'Kerala'\n",
    "print('Change the value from \"Gurgaon\" to \"Kerala\" : ',City)\n",
    "#iii) Remove the last element of the list.\n",
    "print('Remove the last element of the list : ',City.pop())\n",
    "print('The updated list : ', City)\n",
    "     "
   ]
  },
  {
   "cell_type": "markdown",
   "id": "379b018c",
   "metadata": {},
   "source": [
    "Use negative indexing to print the last item in the list. Make a list by yourself."
   ]
  },
  {
   "cell_type": "code",
   "execution_count": 3,
   "id": "4681100e",
   "metadata": {},
   "outputs": [
    {
     "name": "stdout",
     "output_type": "stream",
     "text": [
      "The last item in the list fetchng By Negative index :  Mysore\n"
     ]
    }
   ],
   "source": [
    "City2 = ['Gurgaon', 'Mumbai', 'Bangalore', 'Delhi', 'Mysore']\n",
    "#use negative indexing to print the last item in the list\n",
    "print(\"The last item in the list fetchng By Negative index : \", City2[-1])"
   ]
  },
  {
   "cell_type": "markdown",
   "id": "75fdae48",
   "metadata": {},
   "source": [
    "Use a range of indexes to print the third, fourth, and fifth item in the list. Make a list by yourself."
   ]
  },
  {
   "cell_type": "code",
   "execution_count": 4,
   "id": "6fd3a5dd",
   "metadata": {},
   "outputs": [
    {
     "name": "stdout",
     "output_type": "stream",
     "text": [
      "Printing third,fourth,fifth items from the list :  ['Bangalore', 'Delhi', 'Mysore']\n"
     ]
    }
   ],
   "source": [
    "City3 = ['Gurgaon', 'Mumbai', 'Bangalore', 'Delhi', 'Mysore', 'Kochi', 'Goa' ]\n",
    "print(\"Printing third,fourth,fifth items from the list : \", City3[2:5])"
   ]
  },
  {
   "cell_type": "markdown",
   "id": "5ca0fbc7",
   "metadata": {},
   "source": [
    "Remove the last element from the city list"
   ]
  },
  {
   "cell_type": "code",
   "execution_count": 5,
   "id": "1e1913ca",
   "metadata": {},
   "outputs": [
    {
     "name": "stdout",
     "output_type": "stream",
     "text": [
      "Remove the last element of the list :  Bangalore\n",
      "The updated list :  ['Gurgaon', 'Mumbai']\n"
     ]
    }
   ],
   "source": [
    "City = ['Gurgaon', 'Mumbai', 'Bangalore']\n",
    "#Remove the last element of the list.\n",
    "print('Remove the last element of the list : ',City.pop())\n",
    "print('The updated list : ', City)"
   ]
  },
  {
   "cell_type": "markdown",
   "id": "8672ce65",
   "metadata": {},
   "source": [
    "fruits=[‘apple’,’lichi’,’guava’,’cherry’,’mango’,’watermelon’,’banana’]\n",
    "\n",
    "i) Add \"orange\" at the end of the above list.\n",
    "\n",
    "ii) Add \"lemon\" as the second item in the fruits list"
   ]
  },
  {
   "cell_type": "code",
   "execution_count": 6,
   "id": "0e7c7566",
   "metadata": {},
   "outputs": [
    {
     "name": "stdout",
     "output_type": "stream",
     "text": [
      "Add \"orange\" at the end of the above list :  ['apple', 'lichi', 'guava', 'cherry', 'mango', 'watermelon', 'banana', 'orange']\n",
      "Add \"Lemon\" as the second item in the fruits list :  ['apple', 'Lemon', 'lichi', 'guava', 'cherry', 'mango', 'watermelon', 'banana', 'orange']\n"
     ]
    }
   ],
   "source": [
    "Fruits=['apple','lichi','guava','cherry','mango','watermelon','banana']\n",
    "#i) Add \"orange\" at the end of the above list.\n",
    "Fruits.append(\"orange\")\n",
    "print('Add \"orange\" at the end of the above list : ', Fruits)\n",
    "#ii) Add \"lemon\" as the second item in the fruits list\n",
    "Fruits.insert(1,\"Lemon\")\n",
    "print('Add \"Lemon\" as the second item in the fruits list : ',Fruits)\n"
   ]
  },
  {
   "cell_type": "markdown",
   "id": "ba8552aa",
   "metadata": {},
   "source": [
    "Remove ‘cherry’ from the fruit list given above."
   ]
  },
  {
   "cell_type": "code",
   "execution_count": 9,
   "id": "17ce850a",
   "metadata": {},
   "outputs": [
    {
     "name": "stdout",
     "output_type": "stream",
     "text": [
      "Removed ‘cherry’ from the fruit list :  ['apple', 'lichi', 'guava', 'mango', 'watermelon', 'banana']\n"
     ]
    }
   ],
   "source": [
    "Fruits=['apple','lichi','guava','cherry','mango','watermelon','banana']\n",
    "#Remove ‘cherry’ from the fruit list\n",
    "Fruits.remove('cherry')\n",
    "print('Removed ‘cherry’ from the fruit list : ', Fruits)"
   ]
  },
  {
   "cell_type": "markdown",
   "id": "6ccb60f9",
   "metadata": {},
   "source": [
    "Write the python program to let the user input a list of numbers and print the list in descending order."
   ]
  },
  {
   "cell_type": "code",
   "execution_count": 10,
   "id": "d60a6524",
   "metadata": {},
   "outputs": [
    {
     "name": "stdout",
     "output_type": "stream",
     "text": [
      "enter numbers with space : 4 55 4 3\n",
      "sorted list in decending order :  [55, 4, 4, 3]\n"
     ]
    }
   ],
   "source": [
    "# using map fun to map each user entry to list\n",
    "UserNumbers = list(map(int,input(\"enter numbers with space : \").split()))\n",
    "#sort the list in decending order\n",
    "UserNumbers.sort(reverse = True)\n",
    "print('sorted list in decending order : ',UserNumbers)"
   ]
  },
  {
   "cell_type": "markdown",
   "id": "78243ac7",
   "metadata": {},
   "source": [
    "Write a python program to let the user input two lists and combine both the lists\n"
   ]
  },
  {
   "cell_type": "code",
   "execution_count": 12,
   "id": "2c3d2cee",
   "metadata": {},
   "outputs": [
    {
     "name": "stdout",
     "output_type": "stream",
     "text": [
      "List1 : 2,5,4,3,3\n",
      "['2', ',', '5', ',', '4', ',', '3', ',', '3']\n",
      "List2 : 5,,7,6,5,5,4\n",
      "['5', ',', ',', '7', ',', '6', ',', '5', ',', '5', ',', '4']\n",
      "Combined list : ['2', ',', '5', ',', '4', ',', '3', ',', '3', '5', ',', ',', '7', ',', '6', ',', '5', ',', '5', ',', '4']\n"
     ]
    }
   ],
   "source": [
    "# list1\n",
    "List1 = list(input(\"List1 : \"))\n",
    "print(List1)\n",
    "#List2\n",
    "List2 = list(input('List2 : '))\n",
    "print(List2)\n",
    "# combine two lists\n",
    "List3 = List1+List2\n",
    "print('Combined list :', List3)"
   ]
  },
  {
   "cell_type": "markdown",
   "id": "f3751dc1",
   "metadata": {},
   "source": [
    "list = [10, 45, 87, 98]. Shuffle the list"
   ]
  },
  {
   "cell_type": "code",
   "execution_count": 13,
   "id": "d1b182f5",
   "metadata": {},
   "outputs": [
    {
     "name": "stdout",
     "output_type": "stream",
     "text": [
      "list shuffled :  [45, 87, 10, 98]\n"
     ]
    }
   ],
   "source": [
    "import random\n",
    "list1 = [10, 45, 87, 98]\n",
    "list_shuffled = random.shuffle(list1)\n",
    "print('list shuffled : ', list1)"
   ]
  },
  {
   "cell_type": "markdown",
   "id": "2e96f093",
   "metadata": {},
   "source": [
    "x = [10, [3.141, 20, [30, 'baz', 2.718]], 'foo']\n",
    "\n",
    "i) What is the expression that returns the 'z' in 'baz'?\n",
    "\n",
    "ii) What expression returns the list ['baz', 2.718]?"
   ]
  },
  {
   "cell_type": "code",
   "execution_count": 14,
   "id": "88b8ffc6",
   "metadata": {},
   "outputs": [
    {
     "name": "stdout",
     "output_type": "stream",
     "text": [
      "[3.141, 20, [30, 'baz', 2.718]]\n",
      "[30, 'baz', 2.718]\n",
      "baz\n",
      "z\n",
      "['baz', 2.718]\n"
     ]
    }
   ],
   "source": [
    "x = [10, [3.141, 20, [30, 'baz', 2.718]], 'foo']\n",
    "print(x[1])\n",
    "print(x[1][2])\n",
    "print(x[1][2][1])\n",
    "print(x[1][2][1][2])\n",
    "\n",
    "print(x[1][2][1:])"
   ]
  },
  {
   "cell_type": "markdown",
   "id": "e18737b7",
   "metadata": {},
   "source": [
    "Extract element 20 from the above list."
   ]
  },
  {
   "cell_type": "code",
   "execution_count": 15,
   "id": "2fae4b31",
   "metadata": {},
   "outputs": [
    {
     "name": "stdout",
     "output_type": "stream",
     "text": [
      "20\n"
     ]
    }
   ],
   "source": [
    "x = [10, [3.141, 20, [30, 'baz', 2.718]], 'foo']\n",
    "print(x[1][1])"
   ]
  },
  {
   "cell_type": "markdown",
   "id": "56df29ec",
   "metadata": {},
   "source": [
    "\n",
    "You have a list a = [1, 2, 7, 8]\n",
    "\n",
    "Write a Python statement using slice assignment that will fill in the missing values so that a equals [1, 2, 3, 4, 5, 6, 7, 8]"
   ]
  },
  {
   "cell_type": "code",
   "execution_count": 20,
   "id": "9006c29b",
   "metadata": {},
   "outputs": [
    {
     "name": "stdout",
     "output_type": "stream",
     "text": [
      "[1, 3, 4, 5, 6]\n"
     ]
    }
   ],
   "source": [
    "a = [1, 2, 7, 8]\n",
    "a[1:5] = [3,4,5,6]\n",
    "print(a)"
   ]
  },
  {
   "cell_type": "code",
   "execution_count": null,
   "id": "6b42bc3f",
   "metadata": {},
   "outputs": [],
   "source": []
  }
 ],
 "metadata": {
  "kernelspec": {
   "display_name": "Python 3 (ipykernel)",
   "language": "python",
   "name": "python3"
  },
  "language_info": {
   "codemirror_mode": {
    "name": "ipython",
    "version": 3
   },
   "file_extension": ".py",
   "mimetype": "text/x-python",
   "name": "python",
   "nbconvert_exporter": "python",
   "pygments_lexer": "ipython3",
   "version": "3.9.7"
  }
 },
 "nbformat": 4,
 "nbformat_minor": 5
}
