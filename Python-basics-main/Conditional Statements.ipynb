{
 "cells": [
  {
   "cell_type": "markdown",
   "id": "70b086ce",
   "metadata": {},
   "source": [
    "1. Take 2 integer values from the user and print greatest among them."
   ]
  },
  {
   "cell_type": "code",
   "execution_count": 1,
   "id": "444dc465",
   "metadata": {},
   "outputs": [
    {
     "name": "stdout",
     "output_type": "stream",
     "text": [
      "Enter the first number - 4\n",
      "Enter the second number - 7\n",
      "7 is greatest\n"
     ]
    }
   ],
   "source": [
    "num1 = int(input(\"Enter the first number - \"))\n",
    "num2 = int(input(\"Enter the second number - \"))\n",
    "\n",
    "if num1 == num2:\n",
    "    print(\"Numbers are equal\")\n",
    "else:\n",
    "    if num1 > num2:\n",
    "        print(num1, \"is greatest\")\n",
    "    else:\n",
    "        print(num2, \"is greatest\")"
   ]
  },
  {
   "cell_type": "markdown",
   "id": "9ffebee4",
   "metadata": {},
   "source": [
    "Write a program that reads an integer from the user. Then your program should display a message indicating whether the integer is even or odd\n"
   ]
  },
  {
   "cell_type": "code",
   "execution_count": 5,
   "id": "bbcd88f8",
   "metadata": {},
   "outputs": [
    {
     "name": "stdout",
     "output_type": "stream",
     "text": [
      "Enter a number - 5\n",
      "Number 5 is odd\n"
     ]
    }
   ],
   "source": [
    "number = int(input(\"Enter a number - \"))\n",
    "\n",
    "if number % 2 == 0:\n",
    "    print(\"Number {} is even\" .format(number))\n",
    "else:\n",
    "    print(\"Number {} is odd\".format(number))"
   ]
  },
  {
   "cell_type": "markdown",
   "id": "a581aa47",
   "metadata": {},
   "source": [
    "Create a program that reads a letter of the alphabet from the user. If the user enters a, e, i, o or u then your program should display a message indicating that the entered letter is a vowel. If the user enters y then your program should display a message indicating that sometimes y is a vowel,and sometimes y is a consonant. Otherwise your program should display a message indicating that the letter is a consonant."
   ]
  },
  {
   "cell_type": "code",
   "execution_count": 7,
   "id": "03dacbc6",
   "metadata": {},
   "outputs": [
    {
     "name": "stdout",
     "output_type": "stream",
     "text": [
      "Enter a letter from A-Z - a\n",
      "a is a vowel\n"
     ]
    }
   ],
   "source": [
    "Alphabet = input(\"Enter a letter from A-Z - \").lower()\n",
    "\n",
    "if Alphabet in ('a', 'e', 'i', 'o', 'u'):\n",
    "    print('{} is a vowel'.format(Alphabet))\n",
    "\n",
    "elif Alphabet == 'y':\n",
    "    print('{} is sometimes a vowel or sometimes a consonant'.format(Alphabet))\n",
    "else:\n",
    "    print('{} is a consonant'.format(Alphabet))"
   ]
  },
  {
   "cell_type": "markdown",
   "id": "4bb3c8c2",
   "metadata": {},
   "source": [
    "A triangle can be classified based on the lengths of its sides as equilateral, isosceles or scalene. All three sides of an equilateral triangle have the same length. An isosceles triangle has two sides that are the same length, and a third side that is a different length. If all of the sides have different lengths then the triangle is scalene. Write a program that reads the lengths of the three sides of a triangle from the user. Then display a message that states the triangle’s type."
   ]
  },
  {
   "cell_type": "code",
   "execution_count": 9,
   "id": "07cd2683",
   "metadata": {},
   "outputs": [
    {
     "name": "stdout",
     "output_type": "stream",
     "text": [
      "Enter the side length: 45\n",
      "Enter the side length: 6\n",
      "Enter the side length: 6\n",
      "It's an isoceles traingle\n"
     ]
    }
   ],
   "source": [
    "sideA = int(input(\"Enter the side length: \"))\n",
    "sideB = int(input(\"Enter the side length: \"))\n",
    "sideC = int(input(\"Enter the side length: \"))\n",
    "\n",
    "if sideA == sideB == sideC:\n",
    "    print(\"It's an equilateral triangle\")\n",
    "elif sideA == sideB or sideB == sideC or sideC == sideA:\n",
    "    print(\"It's an isoceles traingle\")\n",
    "else:\n",
    "    print(\"It's a scalene traingle\")"
   ]
  },
  {
   "cell_type": "markdown",
   "id": "6f1a4c12",
   "metadata": {},
   "source": [
    "Write a program that determines the name of a shape from its number of sides. Read the number of sides from the user and then report the appropriate name as part of a meaningful message. Your program should support shapes with anywhere from 3 up to (and including) 10 sides. If a number of sides outside of this range is entered then your program should display an appropriate error message."
   ]
  },
  {
   "cell_type": "code",
   "execution_count": 36,
   "id": "9b82734a",
   "metadata": {},
   "outputs": [
    {
     "name": "stdout",
     "output_type": "stream",
     "text": [
      "Enter the number of sides - 12\n",
      "Unappropriate number of sides, please eneter the number of sides between 3 to 10\n"
     ]
    }
   ],
   "source": [
    "side = int(input(\"Enter the number of sides - \"))\n",
    "\n",
    "\n",
    "if side > 10 or side <= 2:\n",
    "    print(\"Unappropriate number of sides, please eneter the number of sides between 3 to 10\")\n",
    "elif side == 3:\n",
    "    print(\"It's a triangle\")\n",
    "elif side == 4:\n",
    "    print(\"It's a quadrilateral\")\n",
    "elif side == 5:\n",
    "    print(\"It's a pentagon\")\n",
    "elif side ==6:\n",
    "    print(\"It's a hexagon\")\n",
    "elif side == 7:\n",
    "    print(\"It's a heptagon\")\n",
    "elif side == 8:\n",
    "    print(\"It's an octagon\")\n",
    "elif side == 9:\n",
    "    print(\"It's a nanogon\")\n",
    "else:\n",
    "    print(\"Its a decagon\")\n"
   ]
  },
  {
   "cell_type": "markdown",
   "id": "81e8e2f0",
   "metadata": {},
   "source": [
    "A shop will give a discount of 10% if the cost of the purchased quantity is more than 1000. Ask the user for quantity, suppose, one unit will cost 100. Judge and print total cost for user."
   ]
  },
  {
   "cell_type": "code",
   "execution_count": 44,
   "id": "5670ff2e",
   "metadata": {},
   "outputs": [
    {
     "name": "stdout",
     "output_type": "stream",
     "text": [
      "Enter the number of items you bought : 10\n",
      "Cost for 10 items before discount 1000\n",
      " Eligible for discount\n",
      "Total cost for items 10 is 100.0\n"
     ]
    }
   ],
   "source": [
    "items = int(input(\"Enter the number of items you bought : \"))\n",
    "cost_per_item = 100\n",
    "total_cost = cost_per_item * items\n",
    "print(\"Cost for {} items before discount {}\".format(items, total_cost))\n",
    "\n",
    "if total_cost >= 1000:\n",
    "    print(\" Eligible for discount\")\n",
    "    costWithDiscount = total_cost * 0.1\n",
    "    print(\"Total cost for items {} is {}\".format(items, costWithDiscount))\n",
    "    \n",
    "else:\n",
    "    print('Not eligible for discount')\n",
    "    print('Cost for items {} is {}'.format(items, total_cost))\n",
    "    "
   ]
  },
  {
   "cell_type": "markdown",
   "id": "36b7be63",
   "metadata": {},
   "source": [
    "Take input of age of 3 people by user and determine oldest and youngest among them.\n"
   ]
  },
  {
   "cell_type": "code",
   "execution_count": 71,
   "id": "68319794",
   "metadata": {},
   "outputs": [
    {
     "name": "stdout",
     "output_type": "stream",
     "text": [
      "Enter your age - 322\n",
      "Enter your age - 45\n",
      "Enter your age - 4\n",
      "user1 is the oldest\n",
      "user3 is the youngest\n"
     ]
    }
   ],
   "source": [
    "user1 = int(input(\"Enter your age - \"))\n",
    "user2 = int(input(\"Enter your age - \"))\n",
    "user3 = int(input(\"Enter your age - \"))\n",
    "\n",
    "if user1 == user2 ==user3:\n",
    "    print(\"All persons are of same age\")\n",
    "else:\n",
    "\n",
    "    if user1 > user2:\n",
    "        if user1 > user3:\n",
    "            print(\"user1 is the oldest\")\n",
    "            if user2 < user3:\n",
    "                print(\"user2 is the youngest\")\n",
    "            else:\n",
    "                print(\"user3 is the youngest\")\n",
    "        else:\n",
    "            print(\"user3 is the oldest\")\n",
    "            if user2 < user1:\n",
    "                print(\"user2 is the youngest\")\n",
    "            else:\n",
    "                print(\"user1 youngest\")\n",
    "    else:\n",
    "        if user2 > user3:\n",
    "            print(\"user2 is the oldest\")\n",
    "            if user1 > user3:\n",
    "                print(\" user3 is the youngest\")\n",
    "            else:\n",
    "                print(\"User1 is the youngest\")\n",
    "        else:\n",
    "            print(\"user3 is the oldest\")\n",
    "           \n",
    "            \n",
    "    "
   ]
  },
  {
   "cell_type": "markdown",
   "id": "63a1a105",
   "metadata": {},
   "source": [
    "A company decided to give a bonus of 5% to an employee if his/her year of service is more than 5 years. Ask user for their salary and year of service and print the net bonus amount."
   ]
  },
  {
   "cell_type": "code",
   "execution_count": 73,
   "id": "b395ae36",
   "metadata": {},
   "outputs": [
    {
     "name": "stdout",
     "output_type": "stream",
     "text": [
      "Enter the number of years you have worked - 6\n",
      "Enter the salary you earn in a month - 9000000\n",
      "Your new salary with bonus is -  9450000.0\n"
     ]
    }
   ],
   "source": [
    "year_of_service = float(input(\"Enter the number of years you have worked - \"))\n",
    "salary = float(input(\"Enter the salary you earn in a month - \"))\n",
    "\n",
    "\n",
    "if year_of_service >= 5:\n",
    "    bonus = salary + salary*0.05\n",
    "    print(\"Your new salary with bonus is - \", bonus)\n",
    "else:\n",
    "    print(\"You are not eligible for a bonus. your salary remains the same\", salary)"
   ]
  },
  {
   "cell_type": "markdown",
   "id": "5630dbc4",
   "metadata": {},
   "source": [
    "Write a program to check if a year is leap year or not.If a year is divisible by 4 then it is leap year but if the year is a century year like 2000, 1900, 2100 then it must be divisible by 400."
   ]
  },
  {
   "cell_type": "code",
   "execution_count": 75,
   "id": "69c97d4d",
   "metadata": {},
   "outputs": [
    {
     "name": "stdout",
     "output_type": "stream",
     "text": [
      "Enter year - 2024\n",
      "2024 is not a leap year\n"
     ]
    }
   ],
   "source": [
    "year = int(input(\"Enter year - \"))\n",
    "\n",
    "if year%4 == 0:\n",
    "    if year%100 == 0:\n",
    "        if year%400 == 0:\n",
    "            print(\"It's a leap year\")\n",
    "        else:\n",
    "            print(year,\"is not a leap year\")\n",
    "    else:\n",
    "        print(year, \"is not a leap year\")\n",
    "else:\n",
    "    print(year, \"is not a leap year\")\n",
    "    "
   ]
  },
  {
   "cell_type": "markdown",
   "id": "9ad35152",
   "metadata": {},
   "source": [
    "Accept d1 and d2 as input. First, check to see that they are in the proper range for dice. If not, print a message. Otherwise, determine the outcome if this is the come out roll. If the sum is 7 or 11, print the winner. If the sum is 2, 3 or 12, print loser. Otherwise print the point."
   ]
  },
  {
   "cell_type": "code",
   "execution_count": 82,
   "id": "bde972a4",
   "metadata": {},
   "outputs": [
    {
     "name": "stdout",
     "output_type": "stream",
     "text": [
      "Enter number 1 : 3\n",
      "Enter number 2 : 5\n",
      "Entered numbers are in range 1 - 6\n",
      "You have got 8 points\n"
     ]
    }
   ],
   "source": [
    "d1 = int(input(\"Enter number 1 : \"))\n",
    "d2 = int(input(\"Enter number 2 : \"))\n",
    "\n",
    "if d1 in range(1,7) and d2 in range(1,7):\n",
    "    print(\"Entered numbers are in range 1 - 6\")\n",
    "    sum = d1 + d2\n",
    "    if sum in (7,11):\n",
    "        print(\"Hurray!! Winner!!\")\n",
    "    elif sum in (2,3,12):\n",
    "        print(\"You got to loose this time\")\n",
    "    else:\n",
    "        print(\"You have got {} points\".format(sum))\n",
    "else:\n",
    "    print(\"Entered numbers are not in range 1 - 6\")"
   ]
  },
  {
   "cell_type": "markdown",
   "id": "c746b313",
   "metadata": {},
   "source": [
    "Write a python program to display the number of days in a month name from the given list of months or month number entered by user"
   ]
  },
  {
   "cell_type": "code",
   "execution_count": 90,
   "id": "77fb53e3",
   "metadata": {},
   "outputs": [
    {
     "name": "stdout",
     "output_type": "stream",
     "text": [
      "Enter the name of monthJune\n",
      "June  has 30 days\n"
     ]
    }
   ],
   "source": [
    "month = input(\"Enter the name of month\")\n",
    "\n",
    "if month in (\"January\", \"March\", \"May\", \"July\", \"August\", \"October\", \"December\"):\n",
    "    print(month, \" has 31 days\")\n",
    "elif month == \"February\":\n",
    "    print(month, \" has 28 days\")\n",
    "elif month in (\"April\", \"June\", \"September\", \"November\" ):\n",
    "    print(month, \" has 30 days\")\n",
    "else:\n",
    "    print(\"Invalid entry\")\n",
    "    "
   ]
  },
  {
   "cell_type": "markdown",
   "id": "8fd3c793",
   "metadata": {},
   "source": [
    "Take the input from the user for the year, month and date. User must get the output mentioning whether the year is a leap year or not. About the month, it should display how many days the month has and about the date, it should give output for the next date of that month."
   ]
  },
  {
   "cell_type": "code",
   "execution_count": 96,
   "id": "f9f9342f",
   "metadata": {},
   "outputs": [
    {
     "name": "stdout",
     "output_type": "stream",
     "text": [
      "Enter a year : 1997\n",
      "1997 It's not a leap year\n",
      "Enter a month - 6\n",
      "6 has 30 days\n",
      "Enter the memorable day - 8\n",
      "The next date is [yyyy-mm-dd] 1997-6-9.\n"
     ]
    }
   ],
   "source": [
    "year = int(input(\"Enter a year : \"))\n",
    "\n",
    "if year%4 == 0:\n",
    "    if year%400 == 0:\n",
    "        if year%100 == 0:\n",
    "            print(year, \" It's a leap year\")\n",
    "            leap_year = True\n",
    "        else:\n",
    "            print(year, \"It's not a leap year\")\n",
    "            leap_year = False\n",
    "    else:\n",
    "        print(year, \"It's not a leap year\")\n",
    "        leap_year = False\n",
    "else:\n",
    "    print(year, \"It's not a leap year\")\n",
    "    leap_year = False\n",
    "            \n",
    "#month\n",
    "month = int(input(\"Enter a month - \"))\n",
    "month_length = 1\n",
    "\n",
    "if month in (1, 3, 5, 7, 8, 10, 12):\n",
    "    print(month, \"has 31 days\")\n",
    "    month_length = 31\n",
    "elif month in (4, 6, 9, 11):\n",
    "    print(month, \"has 30 days\")\n",
    "    month_length = 30\n",
    "elif month == 2:\n",
    "    print(month, \"has 28 days\")\n",
    "    month_length = 28\n",
    "else:\n",
    "    print(\"Invalid input\")\n",
    "    \n",
    "#Date\n",
    "day = int(input(\"Enter the memorable day - \"))\n",
    "\n",
    "if day < month_length:\n",
    "    day += 1\n",
    "else:\n",
    "    day = 1\n",
    "    if month == 12:\n",
    "        month = 1\n",
    "        year += 1\n",
    "    else:\n",
    "        month +=1\n",
    "print(\"The next date is [yyyy-mm-dd] %d-%d-%d.\" %(year, month, day))"
   ]
  },
  {
   "cell_type": "code",
   "execution_count": null,
   "id": "afe24d68",
   "metadata": {},
   "outputs": [],
   "source": []
  }
 ],
 "metadata": {
  "kernelspec": {
   "display_name": "Python 3 (ipykernel)",
   "language": "python",
   "name": "python3"
  },
  "language_info": {
   "codemirror_mode": {
    "name": "ipython",
    "version": 3
   },
   "file_extension": ".py",
   "mimetype": "text/x-python",
   "name": "python",
   "nbconvert_exporter": "python",
   "pygments_lexer": "ipython3",
   "version": "3.9.7"
  }
 },
 "nbformat": 4,
 "nbformat_minor": 5
}
