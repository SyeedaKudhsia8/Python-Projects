{
 "cells": [
  {
   "cell_type": "markdown",
   "id": "53ce6267",
   "metadata": {},
   "source": [
    "Print first 10 natural numbers using while loop"
   ]
  },
  {
   "cell_type": "code",
   "execution_count": 1,
   "id": "7aead12d",
   "metadata": {},
   "outputs": [
    {
     "name": "stdout",
     "output_type": "stream",
     "text": [
      "Printing first 10 natural numbers\n",
      "0\n",
      "1\n",
      "2\n",
      "3\n",
      "4\n",
      "5\n",
      "6\n",
      "7\n",
      "8\n",
      "9\n"
     ]
    }
   ],
   "source": [
    "count = 0\n",
    "print(\"Printing first 10 natural numbers\")\n",
    "while True:\n",
    "    print(count)\n",
    "    count += 1\n",
    "    if count >= 10:\n",
    "        break"
   ]
  },
  {
   "cell_type": "markdown",
   "id": "785b6272",
   "metadata": {},
   "source": [
    "Display -10 to -1 using for loop"
   ]
  },
  {
   "cell_type": "code",
   "execution_count": 4,
   "id": "2670ff7d",
   "metadata": {},
   "outputs": [
    {
     "name": "stdout",
     "output_type": "stream",
     "text": [
      "Display numbers from -10 to -1\n",
      "-10\n",
      "-9\n",
      "-8\n",
      "-7\n",
      "-6\n",
      "-5\n",
      "-4\n",
      "-3\n",
      "-2\n",
      "-1\n"
     ]
    }
   ],
   "source": [
    "print(\"Display numbers from -10 to -1\")\n",
    "for i in range(-10,0,1):\n",
    "    print(i)"
   ]
  },
  {
   "cell_type": "markdown",
   "id": "7f2cb150",
   "metadata": {},
   "source": [
    "Write a python program to print the factorial of a given number"
   ]
  },
  {
   "cell_type": "code",
   "execution_count": 12,
   "id": "de04d872",
   "metadata": {},
   "outputs": [
    {
     "name": "stdout",
     "output_type": "stream",
     "text": [
      "Enter a number for which you wish to get the factorial - 10\n",
      "The factorial for number (1*1*2*3*4*5*6*7*8*9*10) --> 10! is 3628800\n"
     ]
    }
   ],
   "source": [
    "number = int(input(\"Enter a number for which you wish to get the factorial - \"))\n",
    "factorial = 1\n",
    "fact1 = \"1\"\n",
    "if number < 0:\n",
    "    print(\"Factorial of a negative number cannot be found.\")\n",
    "elif number == 1:\n",
    "    print(\"Factorial of 1 is 0\")\n",
    "else:\n",
    "    for i in range(1, number+1):\n",
    "        fact1 = fact1 + \"*\" + str(i)\n",
    "        factorial = factorial * i\n",
    "        \n",
    "print(\"The factorial for number ({}) --> {}! is {}\" .format(fact1, number, factorial))\n",
    "        "
   ]
  },
  {
   "cell_type": "markdown",
   "id": "dfec3bcf",
   "metadata": {},
   "source": [
    "Write a python program to print all the prime numbers between 0 to 100, and print how many prime numbers are there "
   ]
  },
  {
   "cell_type": "code",
   "execution_count": 20,
   "id": "49ec335c",
   "metadata": {},
   "outputs": [
    {
     "name": "stdout",
     "output_type": "stream",
     "text": [
      "The list of prime numbers between 0 to 100 is -  [0, 1, 2, 3, 5, 7, 11, 13, 17, 19, 23, 29, 31, 37, 41, 43, 47, 53, 59, 61, 67, 71, 73, 79, 83, 89, 97]\n",
      "Total number of prime numbers are -  27\n"
     ]
    }
   ],
   "source": [
    "list_prime_numbers = []\n",
    "\n",
    "for number in range(0,101):\n",
    "    for i in range(2, number):\n",
    "        if (number%i) == 0:\n",
    "            #print(number, \"its not a prime number\")\n",
    "            break\n",
    "    else:\n",
    "        #print(number, \"Its a prime number\")\n",
    "        list_prime_numbers.append(number)\n",
    "        \n",
    "print(\"The list of prime numbers between 0 to 100 is - \",list_prime_numbers)\n",
    "print(\"Total number of prime numbers are - \", len(list_prime_numbers))"
   ]
  },
  {
   "cell_type": "raw",
   "id": "1860ec58",
   "metadata": {},
   "source": [
    "Print the following pattern - \n",
    "1\n",
    "1 2\n",
    "1 2 3\n",
    "1 2 3 4\n",
    "1 2 3 4 5"
   ]
  },
  {
   "cell_type": "code",
   "execution_count": 28,
   "id": "e51ab788",
   "metadata": {},
   "outputs": [
    {
     "name": "stdout",
     "output_type": "stream",
     "text": [
      "1 \n",
      "1 2 \n",
      "1 2 3 \n",
      "1 2 3 4 \n",
      "1 2 3 4 5 \n"
     ]
    }
   ],
   "source": [
    "for i in range(1,6):\n",
    "    for j in range(1, i+1):\n",
    "        print(j, end = \" \")\n",
    "    print()"
   ]
  },
  {
   "cell_type": "markdown",
   "id": "30f8c38d",
   "metadata": {},
   "source": [
    "Accept n number from user and calculate the sum of all numbers between 1 & n including n"
   ]
  },
  {
   "cell_type": "code",
   "execution_count": 35,
   "id": "c83f778c",
   "metadata": {},
   "outputs": [
    {
     "name": "stdout",
     "output_type": "stream",
     "text": [
      "Enter a number - 5\n",
      "Sum of all the numbers from 1 to 5 is 15. \n"
     ]
    }
   ],
   "source": [
    "number = int(input(\"Enter a number - \"))\n",
    "sum=0\n",
    "for i in range(1, number+1):\n",
    "    sum = sum + i\n",
    "print(\"Sum of all the numbers from 1 to {} is {}. \".format(number, sum))\n",
    "\n",
    "\n"
   ]
  },
  {
   "cell_type": "markdown",
   "id": "96966946",
   "metadata": {},
   "source": [
    "Given a number count the total number of digits in a number"
   ]
  },
  {
   "cell_type": "code",
   "execution_count": 39,
   "id": "9e0537fb",
   "metadata": {},
   "outputs": [
    {
     "name": "stdout",
     "output_type": "stream",
     "text": [
      "Enter a number - 888\n",
      "The total number of digits in number 888 are 3\n"
     ]
    }
   ],
   "source": [
    "number = int(input(\"Enter a number - \"))\n",
    "n = number\n",
    "count_position = 0\n",
    "\n",
    "while (n != 0):\n",
    "    n = n//10\n",
    "    count_position = count_position+1\n",
    "print(\"The total number of digits in number {} are {}\".format(number,count_position))\n",
    "    "
   ]
  },
  {
   "cell_type": "markdown",
   "id": "7550e9b6",
   "metadata": {},
   "source": [
    "Write a python program to create the multiplication table (from 1 to 10) of a number"
   ]
  },
  {
   "cell_type": "code",
   "execution_count": 43,
   "id": "034e6dda",
   "metadata": {},
   "outputs": [
    {
     "name": "stdout",
     "output_type": "stream",
     "text": [
      "Enter a number whose full table u want too read - 9\n",
      "9*1 = 9\n",
      "9*2 = 18\n",
      "9*3 = 27\n",
      "9*4 = 36\n",
      "9*5 = 45\n",
      "9*6 = 54\n",
      "9*7 = 63\n",
      "9*8 = 72\n",
      "9*9 = 81\n",
      "9*10 = 90\n"
     ]
    }
   ],
   "source": [
    "number = int(input(\"Enter a number whose full table u want too read - \"))\n",
    "for i in range(1, 11) :\n",
    "    print('{}*{} = {}'.format(number, i,i*number))\n",
    "    "
   ]
  },
  {
   "cell_type": "markdown",
   "id": "73f15bb2",
   "metadata": {},
   "source": [
    "Reverse the following list using for loop list1 = [10, 20, 30, 40, 50]"
   ]
  },
  {
   "cell_type": "code",
   "execution_count": 48,
   "id": "5ceb3a91",
   "metadata": {},
   "outputs": [
    {
     "name": "stdout",
     "output_type": "stream",
     "text": [
      "The list [10, 20, 30, 40, 50]\n",
      "The reversed list [50, 40, 30, 20, 10]\n"
     ]
    }
   ],
   "source": [
    "list1 = [10, 20, 30, 40, 50]\n",
    "rev_list = []\n",
    "\n",
    "for i in range(len(list1)-1, -1, -1):\n",
    "    rev_list.append(list1[i])\n",
    "    \n",
    "print(\"The list\", list1)\n",
    "print(\"The reversed list\", rev_list)"
   ]
  },
  {
   "cell_type": "raw",
   "id": "2c5b2962",
   "metadata": {},
   "source": [
    "Write a Python program to construct the following pattern, using a nested for loop.\n",
    "*\n",
    "*\n",
    "*\n",
    "*\n",
    "*"
   ]
  },
  {
   "cell_type": "code",
   "execution_count": 49,
   "id": "b64b571b",
   "metadata": {},
   "outputs": [
    {
     "name": "stdout",
     "output_type": "stream",
     "text": [
      "*\n",
      "*\n",
      "*\n",
      "*\n",
      "*\n",
      "*\n",
      "*\n"
     ]
    }
   ],
   "source": [
    "for i in range(1,8):\n",
    "    print('*')"
   ]
  },
  {
   "cell_type": "code",
   "execution_count": 58,
   "id": "b082cd84",
   "metadata": {},
   "outputs": [
    {
     "name": "stdout",
     "output_type": "stream",
     "text": [
      "Enter the number of stars you want9\n",
      "* \n",
      "* * \n",
      "* * * \n",
      "* * * * \n",
      "* * * * * \n",
      "* * * * * * \n",
      "* * * * * * * \n",
      "* * * * * * * * \n",
      "* * * * * * * * * \n",
      "* * * * * * * * \n",
      "* * * * * * * \n",
      "* * * * * * \n",
      "* * * * * \n",
      "* * * * \n",
      "* * * \n",
      "* * \n",
      "* \n",
      "\n"
     ]
    }
   ],
   "source": [
    "num = int(input(\"Enter the number of stars you want\"))\n",
    "\n",
    "for i in range(1, num+1):\n",
    "    for j in range(1, i+1):\n",
    "        print('*', end = ' ')\n",
    "    print()\n",
    "for k in range(num, 0, -1):\n",
    "    for l in range(1,k):\n",
    "        print(\"*\", end = \" \")\n",
    "    print()"
   ]
  },
  {
   "cell_type": "markdown",
   "id": "200d44c4",
   "metadata": {},
   "source": [
    "Write a Python program that accepts a string and calculate the number of digits and letters."
   ]
  },
  {
   "cell_type": "code",
   "execution_count": 68,
   "id": "1d5ac083",
   "metadata": {},
   "outputs": [
    {
     "name": "stdout",
     "output_type": "stream",
     "text": [
      "Enter a sentence that you'd love to find the number of letters and digits in it - 2023\n",
      "The number of letters and digits are 0 and 4 respectively \n"
     ]
    }
   ],
   "source": [
    "string = input(\"Enter a sentence that you'd love to find the number of letters and digits in it - \")\n",
    "count_position_str = 0\n",
    "count_position_int = 0\n",
    "\n",
    "for i in string:\n",
    "    \n",
    "    if string.isalpha():\n",
    "        count_position_str += 1\n",
    "    else:\n",
    "        if string.isdigit():\n",
    "            count_position_int += 1\n",
    "        else:\n",
    "            \n",
    "            print(\"Wrong input!\")\n",
    "print(\"The number of letters and digits are {} and {} respectively \".format(count_position_str, count_position_int))\n",
    "\n"
   ]
  },
  {
   "cell_type": "markdown",
   "id": "91c10671",
   "metadata": {},
   "source": [
    "From a list containing ints, strings and floats, make three lists to store them separately."
   ]
  },
  {
   "cell_type": "code",
   "execution_count": 71,
   "id": "e23bd261",
   "metadata": {},
   "outputs": [
    {
     "name": "stdout",
     "output_type": "stream",
     "text": [
      "The main list is  [24, 1997, 'June', 8, 'Syeeda', 'Data Scientist', 'Apple', 2.5]\n",
      "The list with integers only [24, 1997, 8]\n",
      "The list with strings only ['June', 'Syeeda', 'Data Scientist', 'Apple']\n",
      "The list with decimals only [2.5]\n"
     ]
    }
   ],
   "source": [
    "list1 = [24,1997,\"June\", 8, \"Syeeda\", \"Data Scientist\", \"Apple\", 2.5]\n",
    "integer = []\n",
    "string = []\n",
    "decimal = []\n",
    "for i in list1:\n",
    "    if type(i) == int:\n",
    "        integer.append(i)\n",
    "    elif type(i) == str:\n",
    "        string.append(i)\n",
    "    elif type(i) == float:\n",
    "        decimal.append(i)\n",
    "    else:\n",
    "        print('Invalid input')\n",
    "\n",
    "print(\"The main list is \", list1)\n",
    "print(\"The list with integers only\", integer)\n",
    "print(\"The list with strings only\", string)\n",
    "print(\"The list with decimals only\", decimal)\n",
    "        \n",
    "    "
   ]
  },
  {
   "cell_type": "code",
   "execution_count": null,
   "id": "f8181ef3",
   "metadata": {},
   "outputs": [],
   "source": []
  }
 ],
 "metadata": {
  "kernelspec": {
   "display_name": "Python 3 (ipykernel)",
   "language": "python",
   "name": "python3"
  },
  "language_info": {
   "codemirror_mode": {
    "name": "ipython",
    "version": 3
   },
   "file_extension": ".py",
   "mimetype": "text/x-python",
   "name": "python",
   "nbconvert_exporter": "python",
   "pygments_lexer": "ipython3",
   "version": "3.9.7"
  }
 },
 "nbformat": 4,
 "nbformat_minor": 5
}
