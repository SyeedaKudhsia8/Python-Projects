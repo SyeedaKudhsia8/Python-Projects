{
 "cells": [
  {
   "cell_type": "markdown",
   "id": "265a488d",
   "metadata": {},
   "source": [
    "# Python program to find the types of arguments passed to a function"
   ]
  },
  {
   "cell_type": "code",
   "execution_count": 1,
   "id": "760727c3",
   "metadata": {},
   "outputs": [],
   "source": [
    "def argType(*args):\n",
    "    dict= {}\n",
    "    for i in args:\n",
    "        if type(i) in dict:\n",
    "            dict[type(i)].append(i)\n",
    "        else:\n",
    "            dict[type(i)] = [i]\n",
    "    return dict"
   ]
  },
  {
   "cell_type": "code",
   "execution_count": 5,
   "id": "dfa81bc5",
   "metadata": {},
   "outputs": [
    {
     "data": {
      "text/plain": [
       "{str: ['sdfdfd', '65546'], list: [['dgdgf', 'dgdfgs'], [1, 2, 3]], int: [4]}"
      ]
     },
     "execution_count": 5,
     "metadata": {},
     "output_type": "execute_result"
    }
   ],
   "source": [
    "argType('sdfdfd', ['dgdgf', 'dgdfgs'], [1,2,3],4, '65546')"
   ]
  },
  {
   "cell_type": "code",
   "execution_count": null,
   "id": "d6750e61",
   "metadata": {},
   "outputs": [],
   "source": []
  }
 ],
 "metadata": {
  "kernelspec": {
   "display_name": "Python 3 (ipykernel)",
   "language": "python",
   "name": "python3"
  },
  "language_info": {
   "codemirror_mode": {
    "name": "ipython",
    "version": 3
   },
   "file_extension": ".py",
   "mimetype": "text/x-python",
   "name": "python",
   "nbconvert_exporter": "python",
   "pygments_lexer": "ipython3",
   "version": "3.9.7"
  }
 },
 "nbformat": 4,
 "nbformat_minor": 5
}
